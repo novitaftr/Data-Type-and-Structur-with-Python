{
 "cells": [
  {
   "cell_type": "markdown",
   "metadata": {
    "id": "21Q6Yhc2Fy9p"
   },
   "source": [
    "# Coding Challenge 1 : Looping & Modulo\n",
    "\n",
    "Minggu ini, challenge kita adalah melakukan looping dengan Python. Contoh looping :"
   ]
  },
  {
   "cell_type": "code",
   "execution_count": null,
   "metadata": {
    "colab": {
     "base_uri": "https://localhost:8080/"
    },
    "executionInfo": {
     "elapsed": 362,
     "status": "ok",
     "timestamp": 1704945351452,
     "user": {
      "displayName": "Novita Fitriani",
      "userId": "16738979947830196345"
     },
     "user_tz": -420
    },
    "id": "n0EJql6MGZFK",
    "outputId": "53b72618-29db-47d1-c732-d544e6d9f126"
   },
   "outputs": [
    {
     "name": "stdout",
     "output_type": "stream",
     "text": [
      "1\n",
      "2\n"
     ]
    }
   ],
   "source": [
    "for x in range (1, 3) :\n",
    "  print(x)"
   ]
  },
  {
   "cell_type": "markdown",
   "metadata": {
    "id": "8Pk4S8y1GF_G"
   },
   "source": [
    "### **Soal 1**:\n",
    "\n",
    "Print out integers which are multiples of 3 from 1 to 22.\n",
    "(Print out bilangan bulat yang merupakan kelipatan 3 dari 1 sampai 22).\n",
    "\n",
    "**Ekspektasi jawaban:**\n",
    "\n",
    "Ketika kode kalian di-run, muncul angka-angka: 3, 6, 9, 12, 15, 18, 21. Gunakan looping."
   ]
  },
  {
   "cell_type": "markdown",
   "metadata": {
    "id": "VNDeX3prq0bV"
   },
   "source": [
    "***Jawaban soal 1:***"
   ]
  },
  {
   "cell_type": "code",
   "execution_count": null,
   "metadata": {
    "colab": {
     "base_uri": "https://localhost:8080/"
    },
    "executionInfo": {
     "elapsed": 337,
     "status": "ok",
     "timestamp": 1704945589147,
     "user": {
      "displayName": "Novita Fitriani",
      "userId": "16738979947830196345"
     },
     "user_tz": -420
    },
    "id": "QZ3qbDq5bl3g",
    "outputId": "928cae3a-8f24-481f-9273-acf3c459d7f0"
   },
   "outputs": [
    {
     "name": "stdout",
     "output_type": "stream",
     "text": [
      "3\n",
      "6\n",
      "9\n",
      "12\n",
      "15\n",
      "18\n",
      "21\n"
     ]
    }
   ],
   "source": [
    "for i in range(1, 23):\n",
    "    if i % 3 == 0:\n",
    "        print(i)"
   ]
  },
  {
   "cell_type": "markdown",
   "metadata": {
    "id": "B3KWeHp2G3Pi"
   },
   "source": [
    "### **Soal 2**:\n",
    "\n",
    "Buat sebuah function di Python untuk mengecek apakah sebuah angka merupakan bilangan prima atau bukan.\n",
    "\n",
    "Ekspektasi jawaban:\n",
    "\n",
    "misal fungsi Anda bernama prime_check. Ketika kita jalankan prime_check(5), maka outputnya adalah '5 is a Prime number'. Fungsi ini harus bisa berlaku untuk input apa pun.\n",
    "\n",
    "Clue: Pengecekan bilangan prima menggunakan looping dan modulo.\n",
    "```(python)\n",
    "print('Hasil dari 5 modulo 2 adalah',5 % 2)  \n",
    "# 5 Modulo 2 sama dengan 1. Artinya, 5 dibagi 2, sisanya 1\n",
    "\n",
    "print('Hasil dari 6 modulo 3 adalah', 6 % 3)\n",
    "# 6 Modulo 3 sama dengan 0. Artinya 6 dibagi 3, sisanya 0.\n",
    "```\n",
    "\n",
    "Selamat mengerjakan!"
   ]
  },
  {
   "cell_type": "markdown",
   "metadata": {
    "id": "prwH6kTHq4X_"
   },
   "source": [
    "***Jawaban soal 2 :***"
   ]
  },
  {
   "cell_type": "code",
   "execution_count": null,
   "metadata": {
    "colab": {
     "base_uri": "https://localhost:8080/"
    },
    "executionInfo": {
     "elapsed": 356,
     "status": "ok",
     "timestamp": 1704945585117,
     "user": {
      "displayName": "Novita Fitriani",
      "userId": "16738979947830196345"
     },
     "user_tz": -420
    },
    "id": "ZFRDvmB1l1Nv",
    "outputId": "39ef54a1-dfd2-4a43-e85b-13b06a6bc819"
   },
   "outputs": [
    {
     "name": "stdout",
     "output_type": "stream",
     "text": [
      "5 is Prime\n"
     ]
    }
   ],
   "source": [
    "def prime_check(n):\n",
    "  # Inisialisasi variabel angka_prima dengan True\n",
    "  angka_prima = True\n",
    "\n",
    "  # Cek jika n adalah 1\n",
    "  if (n == 1):\n",
    "    print (f'{n} is not Prime ')\n",
    "\n",
    "  # Cek jika n lebih dari 1\n",
    "  elif n > 1:\n",
    "    for i in range (2,n):\n",
    "      if (n % i ) == 0:\n",
    "        angka_prima = False\n",
    "\n",
    "    # Output berdasarkan nilai angka_prima setelah loop\n",
    "    if(angka_prima):\n",
    "      print(f'{n} is Prime')\n",
    "    else:\n",
    "      print(f'{n} is not Prime')\n",
    "\n",
    "  # Output jika n kurang dari 1\n",
    "  else:\n",
    "    print ('Please input positive integer and more than 1 !')\n",
    "\n",
    "# Contoh penggunaan\n",
    "prime_check(5)"
   ]
  }
 ],
 "metadata": {
  "colab": {
   "provenance": [
    {
     "file_id": "1WLQTbTsnD9ZKn8zI9ESmJHzfS4q4k5j5",
     "timestamp": 1704941029756
    }
   ]
  },
  "kernelspec": {
   "display_name": "Python 3 (ipykernel)",
   "language": "python",
   "name": "python3"
  },
  "language_info": {
   "codemirror_mode": {
    "name": "ipython",
    "version": 3
   },
   "file_extension": ".py",
   "mimetype": "text/x-python",
   "name": "python",
   "nbconvert_exporter": "python",
   "pygments_lexer": "ipython3",
   "version": "3.11.5"
  }
 },
 "nbformat": 4,
 "nbformat_minor": 1
}
