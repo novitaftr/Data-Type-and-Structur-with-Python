{
 "cells": [
  {
   "cell_type": "markdown",
   "id": "190a46a5",
   "metadata": {
    "id": "190a46a5"
   },
   "source": [
    "Code Challenge : Membantu siswa dalam mengasa kemampuan berfikir kritis menyelesaikan kasus dalam bentuk pemrograman"
   ]
  },
  {
   "cell_type": "markdown",
   "id": "16f30f25",
   "metadata": {
    "id": "16f30f25"
   },
   "source": [
    "# Code Challenge"
   ]
  },
  {
   "cell_type": "markdown",
   "id": "6c585241",
   "metadata": {
    "id": "6c585241"
   },
   "source": [
    "1. Tulis program Python sederhana yang meminta pengguna untuk memasukkan dua angka, kemudian menghitung dan mencetak hasil penjumlahan kedua angka tersebut."
   ]
  },
  {
   "cell_type": "code",
   "execution_count": 10,
   "id": "_FTw7neWnljm",
   "metadata": {
    "colab": {
     "base_uri": "https://localhost:8080/"
    },
    "executionInfo": {
     "elapsed": 3806,
     "status": "ok",
     "timestamp": 1709694226398,
     "user": {
      "displayName": "Novita Fitriani",
      "userId": "16738979947830196345"
     },
     "user_tz": -420
    },
    "id": "_FTw7neWnljm",
    "outputId": "44d5525c-1b9b-44ff-a878-065ad610e92c"
   },
   "outputs": [
    {
     "name": "stdout",
     "output_type": "stream",
     "text": [
      "masukan angka pertama: 3\n",
      "masukan angka kedua: 7\n",
      "\n",
      "hasil penjumlahan kedua angka = 10\n"
     ]
    }
   ],
   "source": [
    "#input angka pertama dan kedua\n",
    "input_1 = int(input('masukan angka pertama: '))\n",
    "input_2 = int(input('masukan angka kedua: '))\n",
    "\n",
    "#perhitungan\n",
    "penjumlahan = input_1 + input_2\n",
    "\n",
    "#menampilkan hasil\n",
    "print(f'\\nhasil penjumlahan kedua angka = {penjumlahan}')"
   ]
  },
  {
   "cell_type": "markdown",
   "id": "7b54ae33",
   "metadata": {
    "id": "7b54ae33"
   },
   "source": [
    "2. Buatlah program Python yang meminta pengguna untuk memasukkan jari-jari lingkaran, dan kemudian menghitung dan mencetak luas lingkaran tersebut. Gunakan rumus luas lingkaran: Luas = π * r^2, dengan π (pi) bernilai 3.14."
   ]
  },
  {
   "cell_type": "code",
   "execution_count": 11,
   "id": "escQxi0pqk0W",
   "metadata": {
    "colab": {
     "base_uri": "https://localhost:8080/"
    },
    "executionInfo": {
     "elapsed": 2919,
     "status": "ok",
     "timestamp": 1709694274324,
     "user": {
      "displayName": "Novita Fitriani",
      "userId": "16738979947830196345"
     },
     "user_tz": -420
    },
    "id": "escQxi0pqk0W",
    "outputId": "ac8b77bd-299f-4776-bc00-2310f275c97d"
   },
   "outputs": [
    {
     "name": "stdout",
     "output_type": "stream",
     "text": [
      "masukan jari-jari yang ingin dihitung (cm) = 7\n",
      "\n",
      "luas lingkaran = 153.86 cm^2\n"
     ]
    }
   ],
   "source": [
    "#input nilai\n",
    "pi= 3.14\n",
    "input_jarijari = int(input('masukan jari-jari yang ingin dihitung (cm) = '))\n",
    "luas_lingkaran = pi*input_jarijari**2\n",
    "\n",
    "#menampilkan hasil\n",
    "print(f'\\nluas lingkaran = {luas_lingkaran} cm^2')"
   ]
  },
  {
   "cell_type": "markdown",
   "id": "2ea95cab",
   "metadata": {
    "id": "2ea95cab"
   },
   "source": [
    "3. Buatlah program Python yang meminta pengguna untuk memasukkan sebuah bilangan bulat positif, lalu menghitung dan mencetak faktorial dari bilangan tersebut. Faktorial dari bilangan bulat n (dilambangkan dengan n!) adalah hasil perkalian semua bilangan bulat positif dari 1 hingga n.\n",
    "\n",
    "  Example : <br>\n",
    "Masukkan bilangan bulat positif: 5\n",
    "Faktorial dari 5 adalah: 120\n"
   ]
  },
  {
   "cell_type": "code",
   "execution_count": null,
   "id": "wikhQCDwusU9",
   "metadata": {
    "colab": {
     "base_uri": "https://localhost:8080/"
    },
    "executionInfo": {
     "elapsed": 18142,
     "status": "ok",
     "timestamp": 1705467335214,
     "user": {
      "displayName": "Novita Fitriani",
      "userId": "16738979947830196345"
     },
     "user_tz": -420
    },
    "id": "wikhQCDwusU9",
    "outputId": "1ba22b68-6c44-405a-99bf-9fa3495b3564"
   },
   "outputs": [
    {
     "name": "stdout",
     "output_type": "stream",
     "text": [
      "Masukan Nama : Novita Fitriani\n",
      "\n",
      "masukan bilangan bulat positif : 5\n",
      "faktorial dari 5 adalah : 120\n",
      "\n",
      "ingin ulang (ya/tidak) ? ya\n",
      "\n",
      "masukan bilangan bulat positif : 8\n",
      "faktorial dari 8 adalah : 40320\n",
      "\n",
      "ingin ulang (ya/tidak) ? tidak\n",
      "terimakasih\n"
     ]
    }
   ],
   "source": [
    "#Salam Pembuka Program\n",
    "def id () :\n",
    "  sapa_user=input(\"Masukan Nama : \")\n",
    "\n",
    "#Program utama\n",
    "id ()\n",
    "pilihan=\"ya\"\n",
    "while pilihan==\"ya\" :\n",
    "    n=input (\"\\nmasukan bilangan bulat positif : \")\n",
    "    hasil = 1\n",
    "    for i in range (1,int(n)+1):\n",
    "      hasil = hasil * i\n",
    "    print(f\"faktorial dari {n} adalah : {hasil}\")\n",
    "    pilihan=input(\"\\ningin ulang (ya/tidak) ? \")\n",
    "else:\n",
    "    print (\"terimakasih\")"
   ]
  },
  {
   "cell_type": "markdown",
   "id": "03ac4a8f",
   "metadata": {
    "id": "03ac4a8f"
   },
   "source": [
    "4. Tulis program Python yang meminta pengguna memasukkan sebuah bilangan bulat positif, dan kemudian menentukan apakah bilangan tersebut adalah bilangan prima atau bukan. Sebuah bilangan prima hanya memiliki dua faktor positif, yaitu 1 dan dirinya sendir\n",
    "\n",
    "  Example :\n",
    "Masukkan bilangan bulat positif: 7\n",
    "7 adalah bilangan prima.\n",
    "\n",
    "  Masukkan bilangan bulat positif: 12\n",
    "12 bukan bilangan prima."
   ]
  },
  {
   "cell_type": "code",
   "execution_count": 15,
   "id": "kLQ1KfE5u2-A",
   "metadata": {
    "colab": {
     "base_uri": "https://localhost:8080/"
    },
    "executionInfo": {
     "elapsed": 6631,
     "status": "ok",
     "timestamp": 1709694491077,
     "user": {
      "displayName": "Novita Fitriani",
      "userId": "16738979947830196345"
     },
     "user_tz": -420
    },
    "id": "kLQ1KfE5u2-A",
    "outputId": "c60b82bf-490c-4f53-ea11-94d7b4dc9d1d"
   },
   "outputs": [
    {
     "name": "stdout",
     "output_type": "stream",
     "text": [
      "ingin coba berapa kali? 2\n",
      "\n",
      "masukan bilangan bulat positif: 5\n",
      "5 adalah bilangan prima\n",
      "\n",
      "\n",
      "masukan bilangan bulat positif: 6\n",
      "6 adalah bukan bilangan prima\n",
      "\n"
     ]
    }
   ],
   "source": [
    "# Program Utama\n",
    "def check_prime(n):\n",
    "    angka_prima = False\n",
    "    if n < 2:\n",
    "        print(f'{n} adalah bukan bilangan prima ')\n",
    "    else:\n",
    "        for i in range(2, n):\n",
    "            if (n % i) == 0:\n",
    "                angka_prima = True\n",
    "\n",
    "        if angka_prima:\n",
    "            print(f'{n} adalah bukan bilangan prima')\n",
    "        else:\n",
    "            print(f'{n} adalah bilangan prima')\n",
    "\n",
    "# Menampilkan perulangan hasil\n",
    "pilihan = int(input('ingin coba berapa kali? '))\n",
    "i = 0\n",
    "while i < pilihan:\n",
    "    i += 1\n",
    "    bilangan = int(input('\\nmasukan bilangan bulat positif: '))\n",
    "    check_prime(bilangan)\n",
    "    print('')"
   ]
  },
  {
   "cell_type": "markdown",
   "id": "090858a5",
   "metadata": {
    "id": "090858a5"
   },
   "source": [
    "5. Buatlah program Python yang meminta pengguna untuk memasukkan sebuah kata atau frase, dan kemudian menentukan apakah kata atau frase tersebut merupakan palindrom (bisa dibaca sama dari depan maupun dari belakang).\n",
    "\n",
    "  Masukkan sebuah kata atau frase: radar\n",
    "radar adalah palindrom.\n",
    "\n",
    "  Masukkan sebuah kata atau frase: hello\n",
    "hello bukan palindrom."
   ]
  },
  {
   "cell_type": "code",
   "execution_count": 16,
   "id": "nHdrGhDsyuMC",
   "metadata": {
    "colab": {
     "base_uri": "https://localhost:8080/"
    },
    "executionInfo": {
     "elapsed": 13048,
     "status": "ok",
     "timestamp": 1709694572831,
     "user": {
      "displayName": "Novita Fitriani",
      "userId": "16738979947830196345"
     },
     "user_tz": -420
    },
    "id": "nHdrGhDsyuMC",
    "outputId": "1698369d-b8c2-4bc7-82f5-e74c607c05bc"
   },
   "outputs": [
    {
     "name": "stdout",
     "output_type": "stream",
     "text": [
      "ingin coba berapa kali? 2\n",
      "\n",
      "Masukkan sebuah kata atau frase: radar\n",
      "radar adalah palindrom\n",
      "\n",
      "Masukkan sebuah kata atau frase: hello\n",
      "hello bukan palindrom\n"
     ]
    }
   ],
   "source": [
    "#Program Utama\n",
    "def cek_palindrom(kata):\n",
    "    kata = kata.lower().replace(\" \", \"\")  # Mengubah menjadi huruf kecil dan menghapus spasi\n",
    "    return kata == kata[::-1]\n",
    "\n",
    "def main():\n",
    "    input_user = input(\"\\nMasukkan sebuah kata atau frase: \")\n",
    "\n",
    "    if cek_palindrom(input_user):\n",
    "        print(f\"{input_user} adalah palindrom\")\n",
    "    else:\n",
    "        print(f\"{input_user} bukan palindrom\")\n",
    "\n",
    "# Menampilkan perulangan hasil\n",
    "pilihan=int(input('ingin coba berapa kali? '))\n",
    "i = 0\n",
    "while i < pilihan:\n",
    "  i+=1\n",
    "  if __name__ == \"__main__\":\n",
    "    main()"
   ]
  },
  {
   "cell_type": "markdown",
   "id": "ccad9320",
   "metadata": {
    "id": "ccad9320"
   },
   "source": [
    "6. Buatlah sebuah program yang mengeluarkan output berupa profile seperti nama, kota asal, band favorit dan makan favorit.\n",
    "\n",
    "  Example :\n",
    "Nama : Zen\n",
    "Domisili : Kendari\n",
    "Band Favorit : JKT48\n",
    "Makanan Favorit : Nasi Goreng"
   ]
  },
  {
   "cell_type": "code",
   "execution_count": 19,
   "id": "1-k36--3zdJg",
   "metadata": {
    "colab": {
     "base_uri": "https://localhost:8080/"
    },
    "executionInfo": {
     "elapsed": 20172,
     "status": "ok",
     "timestamp": 1709694844336,
     "user": {
      "displayName": "Novita Fitriani",
      "userId": "16738979947830196345"
     },
     "user_tz": -420
    },
    "id": "1-k36--3zdJg",
    "outputId": "ae6295df-b2a6-48c8-839b-8a32064734f6"
   },
   "outputs": [
    {
     "name": "stdout",
     "output_type": "stream",
     "text": [
      "Nama: Zen\n",
      "Domisili: Kendari\n",
      "Band Favorite: JKT48\n",
      "Makanan Favorite: Nasi Goreng\n",
      "\n",
      "Nama: Zen\n",
      "Domisili: Kendari\n",
      "Band Favorit: JKT48\n",
      "Makanan Favorit: Nasi Goreng\n"
     ]
    }
   ],
   "source": [
    "def cetak_profil(nama, domisili, band_favorit, makanan_favorit):\n",
    "    print(f\"Nama: {nama}\")\n",
    "    print(f\"Domisili: {domisili}\")\n",
    "    print(f\"Band Favorit: {band_favorit}\")\n",
    "    print(f\"Makanan Favorit: {makanan_favorit}\")\n",
    "\n",
    "def main():\n",
    "    nama = input(\"Nama: \")\n",
    "    domisili = input(\"Domisili: \")\n",
    "    band_favorit = input(\"Band Favorite: \")\n",
    "    makanan_favorit = input(\"Makanan Favorite: \")\n",
    "\n",
    "    print(\"\")\n",
    "    cetak_profil(nama, domisili, band_favorit, makanan_favorit)\n",
    "\n",
    "if __name__ == \"__main__\":\n",
    "    main()"
   ]
  },
  {
   "cell_type": "markdown",
   "id": "64918a4d",
   "metadata": {
    "id": "64918a4d"
   },
   "source": [
    "7. Buatlah sebuah program yang dapat menghitung luas total segitiga"
   ]
  },
  {
   "cell_type": "code",
   "execution_count": 20,
   "id": "gF02t4i44gct",
   "metadata": {
    "colab": {
     "base_uri": "https://localhost:8080/"
    },
    "executionInfo": {
     "elapsed": 7260,
     "status": "ok",
     "timestamp": 1709694892309,
     "user": {
      "displayName": "Novita Fitriani",
      "userId": "16738979947830196345"
     },
     "user_tz": -420
    },
    "id": "gF02t4i44gct",
    "outputId": "34312f50-60c6-4df8-8383-a580ff67fa38"
   },
   "outputs": [
    {
     "name": "stdout",
     "output_type": "stream",
     "text": [
      "Selamat datang di program menghitung luas total segitiga\n",
      "\n",
      "Masukan panjang alas segitiga (cm): 4\n",
      "Masukan tinggi segitiga (cm): 9\n",
      "\n",
      "Luas segitiga = 18.0 cm^2\n"
     ]
    }
   ],
   "source": [
    "#Program pembuka\n",
    "print(\"Selamat datang di program menghitung luas total segitiga\\n\")\n",
    "\n",
    "#Program utama\n",
    "alas = float(input(\"Masukan panjang alas segitiga (cm): \"))\n",
    "tinggi = float(input(\"Masukan tinggi segitiga (cm): \"))\n",
    "Luas = 0.5*alas*tinggi\n",
    "\n",
    "print(f\"\\nLuas segitiga = {Luas} cm^2\")"
   ]
  },
  {
   "cell_type": "markdown",
   "id": "37457ff6",
   "metadata": {
    "id": "37457ff6"
   },
   "source": [
    "8. Pak maman ingin menukarkan uangnya sejumlah RP. 32.892.700 kedalam pecahan uang Rp. 100.000 Rp 50.000 Rp. 10.000 Rp 5.000 Rp 1000 Rp 500 dan Rp 100 ke pak budi, Buatlah pemrograman python yang bisa membantu mempercepat pak Budi dalam menentukan berapa buah/lembar uang untuk masih masih pecahan tersebut"
   ]
  },
  {
   "cell_type": "code",
   "execution_count": 21,
   "id": "2cCMwFQ-f1jS",
   "metadata": {
    "colab": {
     "base_uri": "https://localhost:8080/"
    },
    "executionInfo": {
     "elapsed": 17101,
     "status": "ok",
     "timestamp": 1709694925298,
     "user": {
      "displayName": "Novita Fitriani",
      "userId": "16738979947830196345"
     },
     "user_tz": -420
    },
    "id": "2cCMwFQ-f1jS",
    "outputId": "11f432a1-970b-4033-d6d8-7f5d7353124f"
   },
   "outputs": [
    {
     "name": "stdout",
     "output_type": "stream",
     "text": [
      "Masukkan jumlah uang yang ingin ditukar (dalam Rupiah): 32892700\n",
      "\n",
      "Hasil penukaran uang:\n",
      "100000 Rupiah: 328 lembar/buah\n",
      "50000 Rupiah: 1 lembar/buah\n",
      "10000 Rupiah: 4 lembar/buah\n",
      "5000 Rupiah: 0 lembar/buah\n",
      "1000 Rupiah: 2 lembar/buah\n",
      "500 Rupiah: 1 lembar/buah\n",
      "100 Rupiah: 2 lembar/buah\n"
     ]
    }
   ],
   "source": [
    "def tukar_uang(jumlah_uang):\n",
    "    pecahan = [100000, 50000, 10000, 5000, 1000, 500, 100]\n",
    "    jumlah_pecahan = {}\n",
    "\n",
    "    for nilai in pecahan:\n",
    "        jumlah_pecahan[nilai] = jumlah_uang // nilai\n",
    "        jumlah_uang %= nilai\n",
    "\n",
    "    return jumlah_pecahan\n",
    "\n",
    "# Menerima input dari pengguna\n",
    "jumlah_uang_tukar = int(input(\"Masukkan jumlah uang yang ingin ditukar (dalam Rupiah): \"))\n",
    "\n",
    "# Memanggil fungsi untuk menukar uang\n",
    "hasil_tukar = tukar_uang(jumlah_uang_tukar)\n",
    "\n",
    "# Menampilkan hasil\n",
    "print(\"\\nHasil penukaran uang:\")\n",
    "for nilai, jumlah in hasil_tukar.items():\n",
    "    print(f\"{nilai} Rupiah: {jumlah} lembar/buah\")\n",
    "\n"
   ]
  },
  {
   "cell_type": "markdown",
   "id": "03e12c77",
   "metadata": {
    "id": "03e12c77"
   },
   "source": [
    "9. Buatlah program python yang berguna untuk mengkonversi dari celcius menjadi fahrenheit"
   ]
  },
  {
   "cell_type": "code",
   "execution_count": 22,
   "id": "V_tuZocKg-2j",
   "metadata": {
    "colab": {
     "base_uri": "https://localhost:8080/"
    },
    "executionInfo": {
     "elapsed": 11736,
     "status": "ok",
     "timestamp": 1709694981595,
     "user": {
      "displayName": "Novita Fitriani",
      "userId": "16738979947830196345"
     },
     "user_tz": -420
    },
    "id": "V_tuZocKg-2j",
    "outputId": "fe24ee8d-5727-4398-a17e-6b7fe29517d0"
   },
   "outputs": [
    {
     "name": "stdout",
     "output_type": "stream",
     "text": [
      "Selamat datang di program menghitung konversi suhu dari Celcius menjadi Farenheit\n",
      "\n",
      "Masukan nilai suhu (Celcius) yang ingin di konversi : 45\n",
      "\n",
      "Nilai suhu dalam Farenheit = 113.0\n"
     ]
    }
   ],
   "source": [
    "#Program pembuka\n",
    "print(\"Selamat datang di program menghitung konversi suhu dari Celcius menjadi Farenheit\\n\")\n",
    "\n",
    "#Program utama\n",
    "celcius = float(input(\"Masukan nilai suhu (Celcius) yang ingin di konversi : \"))\n",
    "farenheit = ((1.8*celcius)+32)\n",
    "\n",
    "print(f\"\\nNilai suhu dalam Farenheit = {farenheit}\")"
   ]
  },
  {
   "cell_type": "markdown",
   "id": "b665d3ad",
   "metadata": {
    "id": "b665d3ad"
   },
   "source": [
    "10. Supermarket X adalah satu-satunya supermarket di kota Solo terkenal karena kejujurannya. Berapapun total belanja pelanggan, selalu dibulatkan ke bawah ke kelipatan Rp 1000 rupiah. Sebagai contoh misalkan total belanja pelanggan adalah Rp 120.580, maka akan dibulatkan ke Rp 120.000 atau misalkan totalnya Rp 99.999 maja akan dibulatkan kebawah menjadi Rp 99.000. Karena kebaikan supermarket inilah, semakin lama semakin banyak pelanggannya. Namun, karena kasirnya masih menggunakan sistem manual, maka semakin lama kasir mengalami kerepotan dalam menangani transaksi perharinya. Buatlah sebuah pemrograman Python untuk membantu kasir dalam menentukan total belanja sesuai ketentuan yang berlaku di supermarket tersebut. Input program adalah total belanja pelanggan, sedangkan outputnya adalah total belanja setelah pembulatan ke bawah ke kelipatan Rp 1000"
   ]
  },
  {
   "cell_type": "code",
   "execution_count": 23,
   "id": "BpVZHu_OPV7C",
   "metadata": {
    "colab": {
     "base_uri": "https://localhost:8080/"
    },
    "executionInfo": {
     "elapsed": 10507,
     "status": "ok",
     "timestamp": 1709695008745,
     "user": {
      "displayName": "Novita Fitriani",
      "userId": "16738979947830196345"
     },
     "user_tz": -420
    },
    "id": "BpVZHu_OPV7C",
    "outputId": "c9573eee-0364-4188-ccc6-40647ba98b5c"
   },
   "outputs": [
    {
     "name": "stdout",
     "output_type": "stream",
     "text": [
      "Masukkan total belanja pelanggan: 99999\n",
      "Total belanja setelah pembulatan ke bawah ke kelipatan Rp 1000 : Rp 99000\n"
     ]
    }
   ],
   "source": [
    "def belanja(total_belanja):\n",
    "    kelipatan = 1000\n",
    "    return int(total_belanja // kelipatan) * kelipatan\n",
    "\n",
    "try:\n",
    "    total_belanja_pelanggan = float(input(\"Masukkan total belanja pelanggan: \"))\n",
    "except ValueError:\n",
    "    print(\"Input tidak valid. Harap masukkan angka.\")\n",
    "    exit()\n",
    "\n",
    "total_setelah_pembulatan = belanja(total_belanja_pelanggan)\n",
    "\n",
    "print(f\"Total belanja setelah pembulatan ke bawah ke kelipatan Rp 1000 : Rp {total_setelah_pembulatan}\")\n"
   ]
  },
  {
   "cell_type": "markdown",
   "id": "54edd5b0",
   "metadata": {
    "id": "54edd5b0"
   },
   "source": [
    "11. Hitunglah Upah Kerja (Kotor) dari seluruh karyawan Perusahaan B jika diketahui upah per jam adalah Rp 30000\n",
    "\n",
    "  Tampilkan output sebagai berikut\n",
    "\n",
    "  Contoh:\n",
    "Upah Kerja (Kotor) Doni = Rp 380000\n",
    "Keterangan :\n",
    "  - Upah per jam = 30000\n",
    "  - Upah Kerja (Kotor) = Jam Kerja x Upah per Jam\n",
    "Upah Kerja (Kotor) Joko = Rp 1320000\n",
    "Upah Kerja (Kotor) Alex = Rp 1440000\n",
    "Upah Kerja (Kotor) Chandra = Rp 1500000\n",
    "Upah Kerja (Kotor) Hartono = Rp 1260000\n",
    "Upah Kerja (Kotor) Samsul = Rp 1350000"
   ]
  },
  {
   "cell_type": "code",
   "execution_count": 7,
   "id": "po7v-0PEhpKa",
   "metadata": {
    "colab": {
     "base_uri": "https://localhost:8080/"
    },
    "executionInfo": {
     "elapsed": 23459,
     "status": "ok",
     "timestamp": 1709693923361,
     "user": {
      "displayName": "Novita Fitriani",
      "userId": "16738979947830196345"
     },
     "user_tz": -420
    },
    "id": "po7v-0PEhpKa",
    "outputId": "9653e277-2615-4a65-8dbb-b8a4179acff5"
   },
   "outputs": [
    {
     "name": "stdout",
     "output_type": "stream",
     "text": [
      "upah per jam = 30000\n",
      "Nama Karyawan =Doni\n",
      "Jumlah jam kerja = 44\n",
      "Upah Kerja (Kotor) Doni = Rp 1320000\n",
      "\n",
      "Keterangan :\n",
      "  - Upah per jam = Rp 30000\n",
      "  - Upah Kerja (Kotor) = Jam Kerja x Upah per Jam\n"
     ]
    }
   ],
   "source": [
    "def hitung_upah_kotor(nama, jam_kerja, upah_per_jam):\n",
    "  upah_kotor = jam_kerja*upah_per_jam\n",
    "  return f\"Upah Kerja (Kotor) {nama} = Rp {upah_kotor}\"\n",
    "\n",
    "upah_per_jam = int(input('upah per jam = '))\n",
    "nama = input('Nama Karyawan =')\n",
    "jam_kerja = int(input('Jumlah jam kerja = '))\n",
    "\n",
    "hasil = hitung_upah_kotor(nama, jam_kerja, upah_per_jam)\n",
    "print(hasil)\n",
    "\n",
    "print(\"\\nKeterangan :\")\n",
    "print(f\"  - Upah per jam = Rp {upah_per_jam}\")\n",
    "print(\"  - Upah Kerja (Kotor) = Jam Kerja x Upah per Jam\")"
   ]
  },
  {
   "cell_type": "markdown",
   "id": "7fd0c01a",
   "metadata": {
    "id": "7fd0c01a"
   },
   "source": [
    "12. Hitunglah Upah Lembur dari seluruh karyawan Perusahaan B\n",
    "\n",
    "  Tampilkan output sebagai berikut: contoh\n",
    "\n",
    "  Contoh:\n",
    "Upah Lembur Doni = Rp 23000\n",
    "Keterangan :\n",
    "  - Upah lembur per jam = 35000\n",
    "  - Upah Lembur = Jam Lembur x Upah lembur per jam\n",
    "Upah Lembur Joko = Rp 420000\n",
    "Upah Lembur Alex = Rp 385000\n",
    "Upah Lembur Chandra = Rp 350000\n",
    "Upah Lembur Hartono = Rp 525000\n",
    "Upah Lembur Samsul = Rp 420000"
   ]
  },
  {
   "cell_type": "code",
   "execution_count": 8,
   "id": "93yqH2stxB1h",
   "metadata": {
    "colab": {
     "base_uri": "https://localhost:8080/"
    },
    "executionInfo": {
     "elapsed": 20646,
     "status": "ok",
     "timestamp": 1709694060734,
     "user": {
      "displayName": "Novita Fitriani",
      "userId": "16738979947830196345"
     },
     "user_tz": -420
    },
    "id": "93yqH2stxB1h",
    "outputId": "6dc13d26-40ca-4a78-d9fb-1f16a4201fe3"
   },
   "outputs": [
    {
     "name": "stdout",
     "output_type": "stream",
     "text": [
      "Masukkan upah lembur per jam (dalam Rupiah): 30000\n",
      "Masukkan jumlah karyawan: 2\n",
      "\n",
      "Masukkan nama karyawan ke-1: Doni\n",
      "Masukkan jumlah jam lembur untuk Doni: 12\n",
      "Upah Lembur Doni = Rp 360000\n",
      "\n",
      "Masukkan nama karyawan ke-2: Joko\n",
      "Masukkan jumlah jam lembur untuk Joko: 6\n",
      "Upah Lembur Joko = Rp 180000\n",
      "\n",
      "Keterangan :\n",
      "  - Upah lembur per jam = Rp 30000\n",
      "  - Upah Lembur = Jam Lembur x Upah lembur per jam\n"
     ]
    }
   ],
   "source": [
    "def upah_lembur_karyawan(nama, jam_lembur, upah_lembur_per_jam):\n",
    "    upah_lembur = jam_lembur * upah_lembur_per_jam\n",
    "    return f\"Upah Lembur {nama} = Rp {upah_lembur}\"\n",
    "\n",
    "upah_lembur_per_jam = int(input(\"Masukkan upah lembur per jam (dalam Rupiah): \"))\n",
    "\n",
    "jumlah_karyawan = int(input(\"Masukkan jumlah karyawan: \"))\n",
    "\n",
    "for i in range(jumlah_karyawan):\n",
    "    nama = input(f\"\\nMasukkan nama karyawan ke-{i+1}: \")\n",
    "    jam_lembur = int(input(f\"Masukkan jumlah jam lembur untuk {nama}: \"))\n",
    "\n",
    "    hasil = upah_lembur_karyawan(nama, jam_lembur, upah_lembur_per_jam)\n",
    "    print(hasil)\n",
    "\n",
    "# Menampilkan keterangan\n",
    "print(\"\\nKeterangan :\")\n",
    "print(f\"  - Upah lembur per jam = Rp {upah_lembur_per_jam}\")\n",
    "print(\"  - Upah Lembur = Jam Lembur x Upah lembur per jam\")\n"
   ]
  },
  {
   "cell_type": "markdown",
   "id": "ab25a2d5",
   "metadata": {
    "id": "ab25a2d5"
   },
   "source": [
    "13. Kita berbelanja bahan makanan di supermarket. Berikut merupakan harga bahan makanan yang dibeli:\n",
    "\n",
    "  ayam adalah 15000\n",
    "bumbu 10000\n",
    "beras 50000.\n",
    "Total belanja nya adalah 160000.\n",
    "Cobalah masukkan angka tersebut ke dalam variabel, kemudian print menggunakan f-string untuk semua variabel!"
   ]
  },
  {
   "cell_type": "code",
   "execution_count": 9,
   "id": "N-dczUcTxWMG",
   "metadata": {
    "colab": {
     "base_uri": "https://localhost:8080/"
    },
    "executionInfo": {
     "elapsed": 345,
     "status": "ok",
     "timestamp": 1709694136294,
     "user": {
      "displayName": "Novita Fitriani",
      "userId": "16738979947830196345"
     },
     "user_tz": -420
    },
    "id": "N-dczUcTxWMG",
    "outputId": "d1fd4d45-8f48-4d0a-89b2-13b28d0a8649"
   },
   "outputs": [
    {
     "name": "stdout",
     "output_type": "stream",
     "text": [
      "Harga Ayam = Rp 15000\n",
      "Harga Bumbu = Rp 10000\n",
      "Harga Beras = Rp 50000\n",
      "\n",
      "Total Belanja = Rp 75000\n"
     ]
    }
   ],
   "source": [
    "harga_ayam = 15000\n",
    "harga_bumbu = 10000\n",
    "harga_beras = 50000\n",
    "\n",
    "total_belanja = harga_ayam + harga_bumbu + harga_beras\n",
    "\n",
    "print(f\"Harga Ayam = Rp {harga_ayam}\")\n",
    "print(f\"Harga Bumbu = Rp {harga_bumbu}\")\n",
    "print(f\"Harga Beras = Rp {harga_beras}\")\n",
    "print(f\"\\nTotal Belanja = Rp {total_belanja}\")\n"
   ]
  },
  {
   "cell_type": "markdown",
   "id": "a222e560",
   "metadata": {
    "id": "a222e560"
   },
   "source": [
    "Rima merupakan seorang anak yang sangat hemat. Namun, suatu ketika dirinya merasa boros dan akhirnya Rima pun me-list pengeluarannya minggu ini dan didapat hasil sebagai berikut:\n",
    "\n",
    "Baju: 200.000\n",
    "Tumblr: 75.000\n",
    "Tas: 150.000\n",
    "Berapakah total biaya yang telah dikeluarkan oleh Rima dalam minggu ini?"
   ]
  },
  {
   "cell_type": "code",
   "execution_count": 24,
   "id": "RtRtpi3IxcEk",
   "metadata": {
    "colab": {
     "base_uri": "https://localhost:8080/"
    },
    "executionInfo": {
     "elapsed": 14,
     "status": "ok",
     "timestamp": 1709695069335,
     "user": {
      "displayName": "Novita Fitriani",
      "userId": "16738979947830196345"
     },
     "user_tz": -420
    },
    "id": "RtRtpi3IxcEk",
    "outputId": "6dfa9425-0a12-4811-8460-eb320a339c66"
   },
   "outputs": [
    {
     "name": "stdout",
     "output_type": "stream",
     "text": [
      "Total biaya yang telah dikeluarkan oleh Rima dalam minggu ini adalah: Rp 425000\n"
     ]
    }
   ],
   "source": [
    "biaya_baju = 200000\n",
    "biaya_tumblr = 75000\n",
    "biaya_tas = 150000\n",
    "\n",
    "# Menghitung total biaya\n",
    "total_biaya = biaya_baju + biaya_tumblr + biaya_tas\n",
    "\n",
    "# Menampilkan hasil\n",
    "print(f\"Total biaya yang telah dikeluarkan oleh Rima dalam minggu ini adalah: Rp {total_biaya}\")\n"
   ]
  },
  {
   "cell_type": "markdown",
   "id": "bcba3cc3",
   "metadata": {
    "id": "bcba3cc3"
   },
   "source": [
    "14. James Hoffman pergi ke PaperCup Coffee milik Andi, setelah mencicipi kopi buatan toko tersebut James termotivasi untuk membuat kopi sendiri ketika di rumah nanti. James pergi ke Supermarket untuk membeli keperluan membuat kopi, berikut adalah barang yang dibeli dan harganya:\n",
    "\n",
    "Biji Kopi yang dibeli adalah \"Ethiopian Coffee Beans\" dengan harga Rp 115.000\n",
    "Alat yang dibutuhkan untuk menyeduh kopi sendiri James membeli alat \"V60\" dengan harga Rp 95.500\n",
    "Cobalah masukkan nilai - nilai tersebut ke dalam variable dan buatlah code yang sesuai dengan output!\n",
    "\n",
    "output : Biji Kopi yang dibeli oleh James Hoffman adalah Ethiopian Coffee Beans dengan harga 115000\n",
    "Alat untuk menyeduh kopi yang dibeli oleh James Hoffman adalah V60 dengan harga 95500"
   ]
  },
  {
   "cell_type": "code",
   "execution_count": 25,
   "id": "UPxRcHxE0ceJ",
   "metadata": {
    "colab": {
     "base_uri": "https://localhost:8080/"
    },
    "executionInfo": {
     "elapsed": 329,
     "status": "ok",
     "timestamp": 1709695113343,
     "user": {
      "displayName": "Novita Fitriani",
      "userId": "16738979947830196345"
     },
     "user_tz": -420
    },
    "id": "UPxRcHxE0ceJ",
    "outputId": "73f26199-56f5-44b6-fa55-e417fb573041"
   },
   "outputs": [
    {
     "name": "stdout",
     "output_type": "stream",
     "text": [
      "Biji Kopi yang dibeli oleh James Hoffman adalah Ethiopian Coffee Beans dengan harga 115000\n",
      "Alat untuk menyeduh kopi yang dibeli oleh James Hoffman adalah V60 dengan harga 95500\n"
     ]
    }
   ],
   "source": [
    "biji_kopi_nama = \"Ethiopian Coffee Beans\"\n",
    "biji_kopi_harga = 115000\n",
    "\n",
    "alat_nama = \"V60\"\n",
    "alat_harga = 95500\n",
    "\n",
    "print(f\"Biji Kopi yang dibeli oleh James Hoffman adalah {biji_kopi_nama} dengan harga {biji_kopi_harga}\")\n",
    "print(f\"Alat untuk menyeduh kopi yang dibeli oleh James Hoffman adalah {alat_nama} dengan harga {alat_harga}\")"
   ]
  },
  {
   "cell_type": "markdown",
   "id": "a2bed253",
   "metadata": {
    "id": "a2bed253"
   },
   "source": [
    "15. Pak Hartono agak kesal karena harga BBM naik dari Rp 7650 per liter menjadi Rp 10000 per liter. Jika sebelumnya beliau membeli Rp 20000 sudah full tank, berapa liter yang harus dibayar Pak Hartono jika mengisi full tank dengan harga yang baru ?"
   ]
  },
  {
   "cell_type": "code",
   "execution_count": 2,
   "id": "LjVysvx63npw",
   "metadata": {
    "colab": {
     "base_uri": "https://localhost:8080/"
    },
    "executionInfo": {
     "elapsed": 10,
     "status": "ok",
     "timestamp": 1709696235094,
     "user": {
      "displayName": "Novita Fitriani",
      "userId": "16738979947830196345"
     },
     "user_tz": -420
    },
    "id": "LjVysvx63npw",
    "outputId": "0b92bd72-4c04-414c-d0df-b741fc458083"
   },
   "outputs": [
    {
     "name": "stdout",
     "output_type": "stream",
     "text": [
      "Jumlah liter yang harus dibayar Pak Hartono : 2.6143790849673203 liter\n",
      "Harga yang harus dibayar Pak Hartono : Rp.26143.7908496732\n"
     ]
    }
   ],
   "source": [
    "# Harga BBM sebelum dan setelah naik\n",
    "harga_sebelum_naik = 7650\n",
    "harga_setelah_naik = 10000\n",
    "\n",
    "# Jumlah uang yang dibayar Pak Hartono\n",
    "jumlah_uang = 20000\n",
    "\n",
    "# Menghitung jumlah liter untuk Pak Hartono agar full tank\n",
    "liter_full_tank = jumlah_uang / harga_sebelum_naik\n",
    "\n",
    "# Menghitung harga yang harus dibayar Pak Hartono setelah kenaikan agar full tank\n",
    "uang_dibayar_setelah_kenaikan = liter_full_tank * harga_setelah_naik\n",
    "\n",
    "# Menampilkan hasil\n",
    "print(f\"Jumlah liter yang harus dibayar Pak Hartono : {liter_full_tank} liter\")\n",
    "print(f\"Harga yang harus dibayar Pak Hartono : Rp.{uang_dibayar_setelah_kenaikan}\")\n"
   ]
  },
  {
   "cell_type": "markdown",
   "id": "19bbebc3",
   "metadata": {
    "id": "19bbebc3"
   },
   "source": [
    "16. Putra bekerja di sebuah perusahaan swasta. Beliau mendapatkan gaji tahunan sebesar Rp 160 juta dan dibayarkan setiap dua minggu. Jika dalam satu tahun gaji tersebut dibayarkan sebanyak 26 kali, berapakah gaji yang di dapatkan Putra selama dua minggu ?"
   ]
  },
  {
   "cell_type": "code",
   "execution_count": 3,
   "id": "EkcN4yBb3wWs",
   "metadata": {
    "colab": {
     "base_uri": "https://localhost:8080/"
    },
    "executionInfo": {
     "elapsed": 559,
     "status": "ok",
     "timestamp": 1709696447793,
     "user": {
      "displayName": "Novita Fitriani",
      "userId": "16738979947830196345"
     },
     "user_tz": -420
    },
    "id": "EkcN4yBb3wWs",
    "outputId": "42e5beef-2101-4cd6-d027-eb13e3dbd1d0"
   },
   "outputs": [
    {
     "name": "stdout",
     "output_type": "stream",
     "text": [
      "Gaji yang diterima Putra setiap dua minggu adalah: Rp 6153846.153846154\n"
     ]
    }
   ],
   "source": [
    "# Gaji tahunan dan jumlah pembayaran tahunan\n",
    "gaji_tahunan = 160000000  # Rp 160 juta\n",
    "jumlah_pembayaran_tahunan = 26\n",
    "\n",
    "# Menghitung gaji per dua minggu\n",
    "gaji_per_dua_minggu = gaji_tahunan / jumlah_pembayaran_tahunan\n",
    "\n",
    "# Menampilkan hasil\n",
    "print(f\"Gaji yang diterima Putra setiap dua minggu adalah: Rp {gaji_per_dua_minggu}\")\n"
   ]
  },
  {
   "cell_type": "markdown",
   "id": "14bfd216",
   "metadata": {
    "id": "14bfd216"
   },
   "source": [
    "17. Anda memiliki perusahaan percetakan. Pelanggan anda meminta anda untuk mencetak tulisan \"HAPPI BIRTHDAY\". Namun ternyata di dalam file tulisan yang dikirim, anda menyadari bahwa ada tulisan typo yaitu I di dalam kata HAPPI yang seharusnya huruf Y. Pelanggan meminta anda untuk mengganti dengan yang benar dan mengubah hurufnya menjadi besar di awal kata saja. Coba revisi tulisan HAPPI BIRTHDAY sesuai permintaan pelanggan anda!"
   ]
  },
  {
   "cell_type": "code",
   "execution_count": 4,
   "id": "DffRO33R5MBQ",
   "metadata": {
    "colab": {
     "base_uri": "https://localhost:8080/"
    },
    "executionInfo": {
     "elapsed": 496,
     "status": "ok",
     "timestamp": 1709696468759,
     "user": {
      "displayName": "Novita Fitriani",
      "userId": "16738979947830196345"
     },
     "user_tz": -420
    },
    "id": "DffRO33R5MBQ",
    "outputId": "8e5032ab-bc3a-4f38-b035-4783036ba4cb"
   },
   "outputs": [
    {
     "name": "stdout",
     "output_type": "stream",
     "text": [
      "HAPPY BIRTHDAY\n"
     ]
    }
   ],
   "source": [
    "# Tulisan yang ingin diubah\n",
    "tulisan = \"HAPPI BIRTHDAY\"\n",
    "\n",
    "# Mencari dan mengganti huruf I dengan Y di kata \"HAPPI\"\n",
    "tulisan_baru = tulisan.replace(\"HAPPI\", \"HAPPY\")\n",
    "\n",
    "# Menampilkan hasil\n",
    "print(tulisan_baru)"
   ]
  },
  {
   "cell_type": "markdown",
   "id": "3122969e",
   "metadata": {
    "id": "3122969e"
   },
   "source": [
    "18. Terdapat kode pos NZ12348, dimana 2 karakter awal adalah kode negara. Coba ambil kode negara dari string tersebut!"
   ]
  },
  {
   "cell_type": "code",
   "execution_count": 5,
   "id": "7H2__BQd5uDG",
   "metadata": {
    "colab": {
     "base_uri": "https://localhost:8080/"
    },
    "executionInfo": {
     "elapsed": 598,
     "status": "ok",
     "timestamp": 1709696486052,
     "user": {
      "displayName": "Novita Fitriani",
      "userId": "16738979947830196345"
     },
     "user_tz": -420
    },
    "id": "7H2__BQd5uDG",
    "outputId": "51ba6d7d-f8ad-45e9-e873-7bfb4665ccde"
   },
   "outputs": [
    {
     "name": "stdout",
     "output_type": "stream",
     "text": [
      "Kode negara: NZ\n"
     ]
    }
   ],
   "source": [
    "# Kode pos\n",
    "kode_pos = \"NZ12348\"\n",
    "\n",
    "# Mengambil dua karakter awal sebagai kode negara\n",
    "kode_negara = kode_pos[:2]\n",
    "\n",
    "# Menampilkan hasil\n",
    "print(f\"Kode negara: {kode_negara}\")"
   ]
  },
  {
   "cell_type": "markdown",
   "id": "93205818",
   "metadata": {
    "id": "93205818"
   },
   "source": [
    "19. Pengguna aplikasi e-commerce mendapatkan voucher belanja jika memenuhi salah satu ketentuan yaitu belanja 7 hari berturut-turut atau belanja lebih dari 1 juta, Hilmi tidak belanja 7 hari berturut-turut namun ia telah melakukan transaksi 1 juta, apakah Hilmi mendapatkan voucher belanja? (True/False)"
   ]
  },
  {
   "cell_type": "code",
   "execution_count": 7,
   "id": "xFvsEO6w7SXu",
   "metadata": {
    "colab": {
     "base_uri": "https://localhost:8080/"
    },
    "executionInfo": {
     "elapsed": 481,
     "status": "ok",
     "timestamp": 1709696694667,
     "user": {
      "displayName": "Novita Fitriani",
      "userId": "16738979947830196345"
     },
     "user_tz": -420
    },
    "id": "xFvsEO6w7SXu",
    "outputId": "2b5d9f14-16df-4b57-86b9-84d4b3ff569a"
   },
   "outputs": [
    {
     "name": "stdout",
     "output_type": "stream",
     "text": [
      "Apakah Hilmi mendapatkan voucher belanja? False\n"
     ]
    }
   ],
   "source": [
    "# Status transaksi dan belanja Hilmi\n",
    "belanja_7_hari_berturut_turut = False\n",
    "total_pembelanjaan = 1000000\n",
    "\n",
    "# Mengecek apakah Hilmi mendapatkan voucher belanja\n",
    "if belanja_7_hari_berturut_turut or total_pembelanjaan > 1000000:\n",
    "    mendapatkan_voucher = True\n",
    "else:\n",
    "    mendapatkan_voucher = False\n",
    "\n",
    "# Menampilkan hasil\n",
    "print(f\"Apakah Hilmi mendapatkan voucher belanja? {mendapatkan_voucher}\")\n"
   ]
  },
  {
   "cell_type": "markdown",
   "id": "f3f12339",
   "metadata": {
    "id": "f3f12339"
   },
   "source": [
    "20. Pak Joko membandingkan harga stock produk barang kecantikan pada kedua supplier yang berbeda.\n",
    "Supplier pertama menawarkan 10 kardus isi produk kecantikan Nivae dengan harga 1.500.000 rupiah\n",
    "Sedangkan supplier kedua menawarkan 12 kardus isi produk kecantikan Garneir dengan harga 1.700.000 rupiah.\n",
    "Dengan kedua harga tersebut Pak Joko memprioritaskan untuk menekan budgetnya dengan membeli stock produk yang paling murah yaitu dengan cara mempertimbangkan harga per kardusnya.\n",
    "Buatlah operasi matematika perbandingan stock produk barang kecantikan apakah harga produk Nivae lebih besar dari harga produk Garneir dalam Python!"
   ]
  },
  {
   "cell_type": "code",
   "execution_count": 11,
   "id": "O3C8Iyi43ZA2",
   "metadata": {
    "colab": {
     "base_uri": "https://localhost:8080/"
    },
    "executionInfo": {
     "elapsed": 26,
     "status": "ok",
     "timestamp": 1709697279051,
     "user": {
      "displayName": "Novita Fitriani",
      "userId": "16738979947830196345"
     },
     "user_tz": -420
    },
    "id": "O3C8Iyi43ZA2",
    "outputId": "b0fcb26e-f051-461d-d733-2eca2ec38813"
   },
   "outputs": [
    {
     "name": "stdout",
     "output_type": "stream",
     "text": [
      "Harga per kardus produk Nivae lebih mahal dibandingkan Garneir.\n"
     ]
    }
   ],
   "source": [
    "#Harga dan total dus supplier 1\n",
    "harga_nivae = 1500000\n",
    "isi_dus_nivae= 10\n",
    "\n",
    "#Harga dan total dus supplier 2\n",
    "harga_garnier = 1700000\n",
    "isi_dus_garneir = 12\n",
    "\n",
    "# Operasi matematika perbandingan harga per kardus\n",
    "harga_per_dus_nivae = harga_nivae / isi_dus_nivae\n",
    "harga_per_dus_garneir = harga_garnier / isi_dus_garneir\n",
    "\n",
    "# Membandingkan harga per kardus\n",
    "if harga_per_dus_nivae < harga_per_dus_garneir:\n",
    "    print(\"Harga per kardus produk Nivae lebih murah dibandingkan Garneir.\")\n",
    "elif harga_per_dus_nivae > harga_per_dus_garneir:\n",
    "    print(\"Harga per kardus produk Nivae lebih mahal dibandingkan Garneir.\")\n",
    "else:\n",
    "    print(\"Harga per kardus produk Nivae sama dengan Garneir.\")"
   ]
  },
  {
   "cell_type": "markdown",
   "id": "03a84343",
   "metadata": {
    "id": "03a84343"
   },
   "source": [
    "21. ----------------------------------------------------------------------\n",
    "Start Up ditempat Haris bekerja dengan timnya sedang melakukan pengujian testing aplikasinya pada fitur dalam mendapatkan voucher belanja untuk user  \n",
    "\n",
    "| Jenis Voucher        |Nama variabel    |Tipe Data|\n",
    "|----------------------|-----------------|---------|\n",
    "|Voucher Gratis Ongkir |get_free_shipping|Boolean  |\n",
    "|Voucher Cashback      |get_cashback     |Boolean  |\n",
    "|Voucher Potongan Harga|get_discount     |Boolean  |\n",
    "|Voucher Pengguna Baru |get_newuser      |Boolean  |\n",
    "\n",
    "Terdapat beberapa user jenis yang mendapatkan voucher:\n",
    "1. Pengguna baru mendapatkan voucher pengguna baru saja\n",
    "2. Pengguna lama yang mendapatkan voucher gratis ongkir saja\n",
    "3. pengguna lama yang mendapatkan voucher potongan harga saja\n",
    "4. pengguna lama yang membeli barang mahal mendapatkan voucher gratis ongkir,cashback\n",
    "5. pengguna lama yang membeli barang mahal mendapatkan voucher gratis ongkir, voucher cashback dan potongan harga\n",
    "\n",
    "semua pengguna harus menggunakan semua variabel yang berada pada tabel <br>\n",
    "\n",
    "21A. Buatlah variabel yang sesuai dengan pengguna baru mendapatkan voucher pengguna baru saja <br>\n",
    "21B. Buatlah variabel pengguna lama yang mendapatkan voucher gratis ongkir saja <br>\n",
    "21C. Buatlah variabel pengguna lama yang mendapatkan voucher potongan harga saja <br>\n",
    "21D. Buatlah variabel pengguna lama yang membeli barang mahal mendapatkan voucher gratis ongkir,cashback <br>\n",
    "21E. Buatlah variabel pengguna lama yang membeli barang mahal mendapatkan voucher gratis ongkir, voucher cashback dan potongan harga"
   ]
  },
  {
   "cell_type": "code",
   "execution_count": 8,
   "id": "zLFin_FcopjM",
   "metadata": {
    "colab": {
     "base_uri": "https://localhost:8080/"
    },
    "executionInfo": {
     "elapsed": 329,
     "status": "ok",
     "timestamp": 1709776870710,
     "user": {
      "displayName": "Novita Fitriani",
      "userId": "16738979947830196345"
     },
     "user_tz": -420
    },
    "id": "zLFin_FcopjM",
    "outputId": "d02d2882-2472-486b-f465-5abced0746bb"
   },
   "outputs": [
    {
     "name": "stdout",
     "output_type": "stream",
     "text": [
      "1. Pengguna baru mendapatkan voucher pengguna baru saja:\n",
      "   - Voucher Gratis Ongkir: False\n",
      "   - Voucher Cashback: False\n",
      "   - Voucher Potongan Harga: False\n",
      "   - Voucher Pengguna Baru: True\n",
      "\n",
      "2. Pengguna lama yang mendapatkan voucher gratis ongkir saja:\n",
      "   - Voucher Gratis Ongkir: True\n",
      "   - Voucher Cashback: False\n",
      "   - Voucher Potongan Harga: False\n",
      "   - Voucher Pengguna Baru: False\n",
      "\n",
      "3. Pengguna lama yang mendapatkan voucher potongan harga saja:\n",
      "   - Voucher Gratis Ongkir: False\n",
      "   - Voucher Cashback: False\n",
      "   - Voucher Potongan Harga: True\n",
      "   - Voucher Pengguna Baru: False\n",
      "\n",
      "4. Pengguna lama yang membeli barang mahal mendapatkan voucher gratis ongkir, cashback:\n",
      "   - Voucher Gratis Ongkir: True\n",
      "   - Voucher Cashback: True\n",
      "   - Voucher Potongan Harga: False\n",
      "   - Voucher Pengguna Baru: False\n",
      "\n",
      "5. Pengguna lama yang membeli barang mahal mendapatkan voucher gratis ongkir, voucher cashback dan potongan harga:\n",
      "   - Voucher Gratis Ongkir: True\n",
      "   - Voucher Cashback: True\n",
      "   - Voucher Potongan Harga: True\n",
      "   - Voucher Pengguna Baru: False\n",
      "\n"
     ]
    }
   ],
   "source": [
    "# 21A. Pengguna baru mendapatkan voucher pengguna baru saja\n",
    "pengguna_baru_voucher = {\n",
    "    \"get_free_shipping\": False,\n",
    "    \"get_cashback\": False,\n",
    "    \"get_discount\": False,\n",
    "    \"get_newuser\": True\n",
    "}\n",
    "\n",
    "print(\"1. Pengguna baru mendapatkan voucher pengguna baru saja:\")\n",
    "print(f\"   - Voucher Gratis Ongkir: {pengguna_baru_voucher['get_free_shipping']}\")\n",
    "print(f\"   - Voucher Cashback: {pengguna_baru_voucher['get_cashback']}\")\n",
    "print(f\"   - Voucher Potongan Harga: {pengguna_baru_voucher['get_discount']}\")\n",
    "print(f\"   - Voucher Pengguna Baru: {pengguna_baru_voucher['get_newuser']}\")\n",
    "print()\n",
    "\n",
    "# 21B. Pengguna lama yang mendapatkan voucher gratis ongkir saja\n",
    "pengguna_lama_ongkir_voucher = {\n",
    "    \"get_free_shipping\": True,\n",
    "    \"get_cashback\": False,\n",
    "    \"get_discount\": False,\n",
    "    \"get_newuser\": False\n",
    "}\n",
    "\n",
    "print(\"2. Pengguna lama yang mendapatkan voucher gratis ongkir saja:\")\n",
    "print(f\"   - Voucher Gratis Ongkir: {pengguna_lama_ongkir_voucher['get_free_shipping']}\")\n",
    "print(f\"   - Voucher Cashback: {pengguna_lama_ongkir_voucher['get_cashback']}\")\n",
    "print(f\"   - Voucher Potongan Harga: {pengguna_lama_ongkir_voucher['get_discount']}\")\n",
    "print(f\"   - Voucher Pengguna Baru: {pengguna_lama_ongkir_voucher['get_newuser']}\")\n",
    "print()\n",
    "\n",
    "# 21C. Pengguna lama yang mendapatkan voucher potongan harga saja\n",
    "pengguna_lama_discount_voucher = {\n",
    "    \"get_free_shipping\": False,\n",
    "    \"get_cashback\": False,\n",
    "    \"get_discount\": True,\n",
    "    \"get_newuser\": False\n",
    "}\n",
    "\n",
    "print(\"3. Pengguna lama yang mendapatkan voucher potongan harga saja:\")\n",
    "print(f\"   - Voucher Gratis Ongkir: {pengguna_lama_discount_voucher['get_free_shipping']}\")\n",
    "print(f\"   - Voucher Cashback: {pengguna_lama_discount_voucher['get_cashback']}\")\n",
    "print(f\"   - Voucher Potongan Harga: {pengguna_lama_discount_voucher['get_discount']}\")\n",
    "print(f\"   - Voucher Pengguna Baru: {pengguna_lama_discount_voucher['get_newuser']}\")\n",
    "print()\n",
    "\n",
    "# 21D. Pengguna lama yang membeli barang mahal mendapatkan voucher gratis ongkir, cashback\n",
    "pengguna_lama_barang_mahal_voucher1 = {\n",
    "    \"get_free_shipping\": True,\n",
    "    \"get_cashback\": True,\n",
    "    \"get_discount\": False,\n",
    "    \"get_newuser\": False\n",
    "}\n",
    "\n",
    "print(\"4. Pengguna lama yang membeli barang mahal mendapatkan voucher gratis ongkir, cashback:\")\n",
    "print(f\"   - Voucher Gratis Ongkir: {pengguna_lama_barang_mahal_voucher1['get_free_shipping']}\")\n",
    "print(f\"   - Voucher Cashback: {pengguna_lama_barang_mahal_voucher1['get_cashback']}\")\n",
    "print(f\"   - Voucher Potongan Harga: {pengguna_lama_barang_mahal_voucher1['get_discount']}\")\n",
    "print(f\"   - Voucher Pengguna Baru: {pengguna_lama_barang_mahal_voucher1['get_newuser']}\")\n",
    "print()\n",
    "\n",
    "# 21E. Pengguna lama yang membeli barang mahal mendapatkan voucher gratis ongkir, voucher cashback dan potongan harga\n",
    "pengguna_lama_barang_mahal_voucher2 = {\n",
    "    \"get_free_shipping\": True,\n",
    "    \"get_cashback\": True,\n",
    "    \"get_discount\": True,\n",
    "    \"get_newuser\": False\n",
    "}\n",
    "\n",
    "print(\"5. Pengguna lama yang membeli barang mahal mendapatkan voucher gratis ongkir, voucher cashback dan potongan harga:\")\n",
    "print(f\"   - Voucher Gratis Ongkir: {pengguna_lama_barang_mahal_voucher2['get_free_shipping']}\")\n",
    "print(f\"   - Voucher Cashback: {pengguna_lama_barang_mahal_voucher2['get_cashback']}\")\n",
    "print(f\"   - Voucher Potongan Harga: {pengguna_lama_barang_mahal_voucher2['get_discount']}\")\n",
    "print(f\"   - Voucher Pengguna Baru: {pengguna_lama_barang_mahal_voucher2['get_newuser']}\")\n",
    "print()\n"
   ]
  },
  {
   "cell_type": "markdown",
   "id": "f77bac63",
   "metadata": {
    "id": "f77bac63"
   },
   "source": [
    "22. Anda makan di sebuah restoran. Anda ingin memesan menu sesuai dengan budget anda.\n",
    "\n",
    "Jika uang anda lebih dari sama dengan 100.000 maka anda memakan steak\n",
    "Jika uang anda lebih dari sama dengan 50.000 maka anda memakan spaghetti\n",
    "Jika uang anda kurang dari 50.000 maka anda memakan nasi goreng\n",
    "Budget uang anda sebesar 60.000 maka lengkapilah program branching dibawah ini\n",
    "\n",
    "```\n",
    "uang = ...\n",
    "... ... ... ...:\n",
    "    print(\"Makan Steak\")\n",
    "... ... ... ...:\n",
    "    ...\n",
    "else:\n",
    "    ...\n",
    "```"
   ]
  },
  {
   "cell_type": "code",
   "execution_count": 9,
   "id": "oojITYxlphsc",
   "metadata": {
    "colab": {
     "base_uri": "https://localhost:8080/"
    },
    "executionInfo": {
     "elapsed": 336,
     "status": "ok",
     "timestamp": 1709777295302,
     "user": {
      "displayName": "Novita Fitriani",
      "userId": "16738979947830196345"
     },
     "user_tz": -420
    },
    "id": "oojITYxlphsc",
    "outputId": "62f70e3a-2faa-4ecd-c38d-da4b13cbd11a"
   },
   "outputs": [
    {
     "name": "stdout",
     "output_type": "stream",
     "text": [
      "Makan Spaghetti\n"
     ]
    }
   ],
   "source": [
    "#Misal uang saya 60000\n",
    "uang = 60000\n",
    "\n",
    "#Kondisi\n",
    "if uang >= 100000:\n",
    "  print('Makan Steak')\n",
    "elif uang >= 50000:\n",
    "  print ('Makan Spaghetti')\n",
    "else:\n",
    "  print ('Makan Nasi Goreng')"
   ]
  },
  {
   "cell_type": "markdown",
   "id": "d64e8d60",
   "metadata": {
    "id": "d64e8d60"
   },
   "source": [
    "23. Jika Universitas yang dipilih adalah ITB, maka akan masuk FMIPA\n",
    "Jika Universitas yang dipilih adalah UI, maka akan masuk Statistik\n",
    "Jika tidak memasuki Universitas selain kondisi di atas, maka Yuni akan mencari Universitas yang lain\n",
    "\n",
    "```\n",
    "universitas = \"UI\"\n",
    "... ...:\n",
    "    ...\n",
    "... ...:\n",
    "    print(\"Jurusan statistik\")\n",
    "else:\n",
    "    print(\"Cari Universitas yang lain, semangat!!!\")\n",
    "```"
   ]
  },
  {
   "cell_type": "code",
   "execution_count": 11,
   "id": "Rx3XpHlrq53y",
   "metadata": {
    "colab": {
     "base_uri": "https://localhost:8080/"
    },
    "executionInfo": {
     "elapsed": 469,
     "status": "ok",
     "timestamp": 1709777532195,
     "user": {
      "displayName": "Novita Fitriani",
      "userId": "16738979947830196345"
     },
     "user_tz": -420
    },
    "id": "Rx3XpHlrq53y",
    "outputId": "5bbb2bf0-a06a-43a9-a213-81da19864632"
   },
   "outputs": [
    {
     "name": "stdout",
     "output_type": "stream",
     "text": [
      "Jurusan Statistika\n"
     ]
    }
   ],
   "source": [
    "universitas = 'UI'\n",
    "\n",
    "if universitas == 'ITB':\n",
    "  print('Masuk FMIPA')\n",
    "elif universitas == 'UI':\n",
    "  print ('Jurusan Statistika')\n",
    "else:\n",
    "  print('cari Universitas yang lain, semangat!!!')"
   ]
  },
  {
   "cell_type": "markdown",
   "id": "ea5fca98",
   "metadata": {
    "id": "ea5fca98"
   },
   "source": [
    "24. Lengkapi program branching dibawah ini,\n",
    "\n",
    "Jika nilai lebih dari sama dengan 75 maka akan mendapatkan nilai A\n",
    "Jika nilai ada di 50-75 maka akan mendapatkan nilai B\n",
    "Jika nilai di bawah 50 maka akan mendapatkan nilai C.\n",
    "\n",
    "```\n",
    "nilai = 80\n",
    "... ... >= ...:\n",
    "    ...\n",
    "... ... ... 50:\n",
    "    print(\"nilai B\")\n",
    "...:\n",
    "    ...\n",
    "```"
   ]
  },
  {
   "cell_type": "code",
   "execution_count": 19,
   "id": "xpPpmjWPrwP9",
   "metadata": {
    "colab": {
     "base_uri": "https://localhost:8080/"
    },
    "executionInfo": {
     "elapsed": 356,
     "status": "ok",
     "timestamp": 1709778107060,
     "user": {
      "displayName": "Novita Fitriani",
      "userId": "16738979947830196345"
     },
     "user_tz": -420
    },
    "id": "xpPpmjWPrwP9",
    "outputId": "490665f1-8cef-49b8-ebc4-cd19fdf2ba59"
   },
   "outputs": [
    {
     "name": "stdout",
     "output_type": "stream",
     "text": [
      "nilai A\n"
     ]
    }
   ],
   "source": [
    "nilai = 80\n",
    "\n",
    "if nilai >= 75 :\n",
    "  print ('nilai A')\n",
    "elif 50 <= nilai < 75:\n",
    "  print ('nilai B')\n",
    "else:\n",
    "  print('nilai C')"
   ]
  },
  {
   "cell_type": "markdown",
   "id": "3bf8fb4d",
   "metadata": {
    "id": "3bf8fb4d"
   },
   "source": [
    "25. Sebuah Toko Florist memberikan diskon 20% kepada pelanggan yang telah melakukan 3 transaksi sebelumnya\n",
    "Akan memberi diskon 30% untuk pelanggan yang telah melakukan 7 kali transaksi sebelumnya\n",
    "Gamal ingin membeli bouquet bunga dan sekarang merupakan transaksi yang ke 7 di Toko Florist tersebut\n",
    "Buat program Branching di bawah ini berdasarkan case diatas!"
   ]
  },
  {
   "cell_type": "code",
   "execution_count": 18,
   "id": "-Xs5YbOhsRIs",
   "metadata": {
    "colab": {
     "base_uri": "https://localhost:8080/"
    },
    "executionInfo": {
     "elapsed": 2222,
     "status": "ok",
     "timestamp": 1709778076109,
     "user": {
      "displayName": "Novita Fitriani",
      "userId": "16738979947830196345"
     },
     "user_tz": -420
    },
    "id": "-Xs5YbOhsRIs",
    "outputId": "5290a7aa-cd88-4e8b-b89a-ff3d78200fb8"
   },
   "outputs": [
    {
     "name": "stdout",
     "output_type": "stream",
     "text": [
      "Jumlah transaksi = 7\n",
      "mendapat diskon 30%\n"
     ]
    }
   ],
   "source": [
    "jumlah_transaksi = int(input('Jumlah transaksi = '))\n",
    "\n",
    "if jumlah_transaksi == 3:\n",
    "  print ('mendapat diskon 20%')\n",
    "elif jumlah_transaksi == 7:\n",
    "  print ('mendapat diskon 30%')\n",
    "else:\n",
    "  print('tidak mendapat diskon')"
   ]
  },
  {
   "cell_type": "markdown",
   "id": "8100bfc3",
   "metadata": {
    "id": "8100bfc3"
   },
   "source": [
    "26. Dokter merawat seorang pasien yang sedang sakit, dokter memiliki beberapa kondisi diagnosa yaitu\n",
    "\n",
    "Jika pasien flu tanpa gejala sakit tenggorokan bahwa pasien sakit flu biasa\n",
    "Jika pasien flu ditambah dengan sakit tenggorokan maka pasien sakit radang tenggorokan\n",
    "Jika pasien flu ditambah sakit tenggorokan ditambah mual maka pasien sakit tonsilitis\n",
    "Ternyata terdapat pasien yang mengidap radang tenggorokan. Ubahlah variabel kondisi_1 dan kondisi_2 agar mengeluarkan diagnosa \"pasien sakit radang tenggorokan\""
   ]
  },
  {
   "cell_type": "code",
   "execution_count": 18,
   "id": "WjC_bahZvCC6",
   "metadata": {
    "colab": {
     "base_uri": "https://localhost:8080/"
    },
    "executionInfo": {
     "elapsed": 382,
     "status": "ok",
     "timestamp": 1709780564368,
     "user": {
      "displayName": "Novita Fitriani",
      "userId": "16738979947830196345"
     },
     "user_tz": -420
    },
    "id": "WjC_bahZvCC6",
    "outputId": "ae28c632-be71-4151-c408-d1f087971723"
   },
   "outputs": [
    {
     "name": "stdout",
     "output_type": "stream",
     "text": [
      "pasien sakit radang tenggorokan\n"
     ]
    }
   ],
   "source": [
    "flu = True #kondisi 1\n",
    "sakit_tenggorokan = True #kondisi 2\n",
    "mual = False #kondisi 3\n",
    "\n",
    "# Diagnosa berdasarkan kondisi\n",
    "if flu and not sakit_tenggorokan:\n",
    "    diagnosa = \"pasien sakit flu biasa\"\n",
    "elif flu and sakit_tenggorokan and not mual:\n",
    "    diagnosa = \"pasien sakit radang tenggorokan\"\n",
    "elif flu and sakit_tenggorokan and mual:\n",
    "    diagnosa = \"pasien sakit tonsilitis\"\n",
    "else:\n",
    "    kondisi_1 = \"tidak dapat menentukan diagnosa\"\n",
    "\n",
    "print(diagnosa)"
   ]
  },
  {
   "cell_type": "markdown",
   "id": "b026a137",
   "metadata": {
    "id": "b026a137"
   },
   "source": [
    "27. Pada Supermarket A customer akan mendapatkan promo menarik jika:\n",
    "\n",
    "Jika customer berbelanja di atas Rp 350.000 akan mendapatkan diskon 5%\n",
    "Jika customer berbelanja di atas Rp 350.000 dan barang yang terakhir dibeli adalah \"Sate Cap Windbreaker\" akan mendapatkan diskon 15%\n",
    "Jika customer berbelanja tidak di atas Rp 350.000 tidak mendapatkan diskon"
   ]
  },
  {
   "cell_type": "code",
   "execution_count": 7,
   "id": "497Ct_xYyQ9E",
   "metadata": {
    "colab": {
     "base_uri": "https://localhost:8080/"
    },
    "executionInfo": {
     "elapsed": 346,
     "status": "ok",
     "timestamp": 1709779420274,
     "user": {
      "displayName": "Novita Fitriani",
      "userId": "16738979947830196345"
     },
     "user_tz": -420
    },
    "id": "497Ct_xYyQ9E",
    "outputId": "871ed3f8-ddad-4fdd-83f7-3b930f2bc469"
   },
   "outputs": [
    {
     "name": "stdout",
     "output_type": "stream",
     "text": [
      "Selamat! Anda mendapatkan diskon 15%\n"
     ]
    }
   ],
   "source": [
    "total_pembelian = 400000\n",
    "barang_terakhir = \"Sate Cap Windbreaker\"\n",
    "\n",
    "# Memeriksa apakah pelanggan berhak mendapatkan promo\n",
    "if total_pembelian > 350000 and barang_terakhir == \"Sate Cap Windbreaker\":\n",
    "    diskon = 15\n",
    "    print(f\"Selamat! Anda mendapatkan diskon {diskon}%\")\n",
    "elif total_pembelian > 350000:\n",
    "    diskon = 5\n",
    "    print(f\"Selamat! Anda mendapatkan diskon {diskon}%.\")\n",
    "else:\n",
    "    print(\"Maaf, Anda tidak mendapatkan diskon\")"
   ]
  }
 ],
 "metadata": {
  "colab": {
   "provenance": [
    {
     "file_id": "1Qt5DsawOOdwmtxpLYyz8RE7XWcuyOPnO",
     "timestamp": 1705464539214
    }
   ]
  },
  "kernelspec": {
   "display_name": "Python 3 (ipykernel)",
   "language": "python",
   "name": "python3"
  },
  "language_info": {
   "codemirror_mode": {
    "name": "ipython",
    "version": 3
   },
   "file_extension": ".py",
   "mimetype": "text/x-python",
   "name": "python",
   "nbconvert_exporter": "python",
   "pygments_lexer": "ipython3",
   "version": "3.11.5"
  }
 },
 "nbformat": 4,
 "nbformat_minor": 5
}
