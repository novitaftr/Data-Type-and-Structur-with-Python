{
 "cells": [
  {
   "cell_type": "markdown",
   "metadata": {
    "id": "toMWYcDrOy7l"
   },
   "source": [
    "1. Membuat function menghitung factorial dari sebuah nilai input\n",
    "\n",
    "Faktorial adalah operasi matematika yang diterapkan pada bilangan bulat non-negatif. Faktorial dari suatu bilangan dinyatakan dengan simbol \"n!\" dan didefinisikan sebagai hasil perkalian semua bilangan bulat positif dari 1 hingga n. <br>\n",
    "\n",
    "Sebagai contoh, 5 faktorial (ditulis sebagai 5!) adalah:\n",
    "5! = 5 × 4 × 3 × 2 × 1 = 120\n",
    "\n",
    "```\n",
    "test case 1 :\n",
    "factorial(3) = 6\n",
    "\n",
    "test case 2 :\n",
    "factorial(5) = 120\n",
    "\n",
    "test case 3 :\n",
    "factorial(0) = 1\n",
    "```\n",
    "\n",
    "**Note : jika mengalami kesulitan gunakan google untuk mencari bantuan**\n",
    "\n",
    "tip !  You case use while consep for solve this problem"
   ]
  },
  {
   "cell_type": "code",
   "execution_count": null,
   "metadata": {
    "colab": {
     "base_uri": "https://localhost:8080/"
    },
    "executionInfo": {
     "elapsed": 12490,
     "status": "ok",
     "timestamp": 1704936929984,
     "user": {
      "displayName": "Novita Fitriani",
      "userId": "16738979947830196345"
     },
     "user_tz": -420
    },
    "id": "USxGyG_ZRsGl",
    "outputId": "3d02bb61-9325-460e-d0b6-051b37dc2991"
   },
   "outputs": [
    {
     "name": "stdout",
     "output_type": "stream",
     "text": [
      "Enter your name : Novita Fitriani\n",
      "\n",
      "Welcome to program menghitung Factorial, Novita Fitriani!\n",
      "\n",
      "Test case 1 : \n",
      "Enter a number of n : 3\n",
      "Test case 2 : \n",
      "Enter a number of n : 5\n",
      "Test case 3 : \n",
      "Enter a number of n : 0\n",
      "\n",
      "Test case 1 :\n",
      "factorial(3) = 6\n",
      "\n",
      "Test case 2 :\n",
      "factorial(5) = 120\n",
      "\n",
      "Test case 3 :\n",
      "factorial(0) = 1\n"
     ]
    }
   ],
   "source": [
    "#Program pembuka\n",
    "def id () :\n",
    "  sapa_user=input(\"Enter your name : \")\n",
    "  return print (f\"\\nWelcome to program menghitung Factorial, {sapa_user}!\\n\")\n",
    "id()\n",
    "\n",
    "#Program utama\n",
    "def factorial(n):\n",
    "    if n < 0:\n",
    "        return \"Please input positive integer!\"\n",
    "    elif n == 0 or n == 1:\n",
    "        return 1\n",
    "    else:\n",
    "        hasil = 1\n",
    "        while n > 1:\n",
    "            hasil *= n\n",
    "            n -= 1\n",
    "        return hasil\n",
    "\n",
    "#List test cases\n",
    "test_cases = []\n",
    "\n",
    "#Meminta input dari pengguna untuk setiap test case\n",
    "for i in range(1, 4):\n",
    "    test_input = int(input(f\"Test case {i} : \\nEnter a number of n : \"))\n",
    "    test_cases.append(test_input)\n",
    "\n",
    "#Menghitung dan menampilkan hasil untuk setiap test case\n",
    "for i, test_case in enumerate(test_cases, start=1):\n",
    "    result = factorial(test_case)\n",
    "    print(f\"\\nTest case {i} :\\nfactorial({test_case}) = {result}\")"
   ]
  },
  {
   "cell_type": "markdown",
   "metadata": {
    "id": "jXs7yftQOy7q"
   },
   "source": [
    "2. Buatlah sebuah program yang memeriksa suatu angka bilangan prima atau bukan\n",
    "\n",
    "Bilangan prima adalah bilangan asli yang lebih besar dari angka 1, yang faktor pembaginya adalah 1 dan bilangan itu sendiri. <br>\n",
    "\n",
    "```\n",
    "test case 1 :\n",
    "check_prime(5)\n",
    "---> out put : 5 is prime\n",
    "\n",
    "test case 2:\n",
    "check_prime(6)\n",
    "---> out put : 6 is not prime\n",
    "\n",
    "test case 3:\n",
    "check_prime(9)\n",
    "---> out put : 9 is not prime\n",
    "\n",
    "test case 4: jika angka dibawah 1\n",
    "check_prime(...) :\n",
    "---> out put : Please input positive integer and more than 1 !\n",
    "```\n",
    "tip ! you can you consep **if-elif-else and for loops** to solve this"
   ]
  },
  {
   "cell_type": "code",
   "execution_count": null,
   "metadata": {
    "colab": {
     "base_uri": "https://localhost:8080/"
    },
    "executionInfo": {
     "elapsed": 10,
     "status": "ok",
     "timestamp": 1704944250487,
     "user": {
      "displayName": "Novita Fitriani",
      "userId": "16738979947830196345"
     },
     "user_tz": -420
    },
    "id": "pzX3iTfdOy7q",
    "outputId": "70b8df27-d058-4a0a-a40d-d38fd2f40723"
   },
   "outputs": [
    {
     "name": "stdout",
     "output_type": "stream",
     "text": [
      "test case 1:\n",
      "check_prime(5)\n",
      "---> output : 5 is prime\n",
      "\n",
      "test case 2:\n",
      "check_prime(6)\n",
      "---> output : 6 is not prime\n",
      "\n",
      "test case 3:\n",
      "check_prime(9)\n",
      "---> output : 9 is not prime\n",
      "\n",
      "test case 4:\n",
      "check_prime(-4)\n",
      "---> output : Please input positive integer and more than 1 !\n",
      "\n"
     ]
    }
   ],
   "source": [
    "#Program utama\n",
    "def check_prime(n):\n",
    "  angka_prima = False\n",
    "  if (n == 1):\n",
    "    print (f'check_prime({n})\\n---> out put : {n} is not prime ')\n",
    "  elif n > 1:\n",
    "    for i in range (2,n):\n",
    "      if (n % i ) == 0:\n",
    "        angka_prima = True\n",
    "\n",
    "    if(angka_prima):\n",
    "      print(f'check_prime({n})\\n---> output : {n} is not prime')\n",
    "    else:\n",
    "      print(f'check_prime({n})\\n---> output : {n} is prime')\n",
    "  else:\n",
    "    print(f'check_prime({n})\\n---> output : Please input positive integer and more than 1 !')\n",
    "\n",
    "#Test case 1\n",
    "print ('test case 1:')\n",
    "check_prime(5)\n",
    "print ('')\n",
    "\n",
    "#Test case 2\n",
    "print ('test case 2:')\n",
    "check_prime(6)\n",
    "print ('')\n",
    "\n",
    "#Test case 3\n",
    "print ('test case 3:')\n",
    "check_prime(9)\n",
    "print ('')\n",
    "\n",
    "#test case 4\n",
    "print ('test case 4:')\n",
    "check_prime(-4)\n",
    "print ('')"
   ]
  },
  {
   "cell_type": "markdown",
   "metadata": {
    "id": "R8CGYh2FOy7q"
   },
   "source": [
    "3. Remove Duplicate Employee IDS\n",
    "   \n",
    "Kamu baru saja dipekerjakan sebagai pengembang perangkat lunak di Perusahaan Puppy, sebuah perusahaan startup yang berfokus pada membuat dunia menjadi tempat yang lebih baik dengan menggunakan anjing-anjing kecil. Juga, perusahaan itu sendiri dijalankan oleh anjing-anjing kecil.\n",
    "\n",
    "Sayangnya, sudah ada beberapa masalah di perusahaan startup ini!\n",
    "\n",
    "Karena perusahaan telah melakukan perekrutan besar-besaran, mereka telah mencatat ID karyawan baru, yang dapat kita representasikan sebagai sebuah daftar Python, misalnya:\n",
    "\n",
    "``ids = [1,2,3,4,5]``\n",
    "\n",
    "Namun, ada masalah di sini, ketika memasukkan ID karyawan baru, seekor anjing kecil secara tidak sengaja duduk di atas keyboard dan terkadang memasukkan entri yang duplikat! Misalnya:\n",
    "\n",
    "``ids = [1,1,1,2,2,2,3,3,3,4,4,5]``\n",
    "\n",
    "Perusahaan membutuhkanmu untuk menghapus ID karyawan yang duplikat dari daftar ini (daftar Python).\n",
    "\n",
    "\n",
    "Masukan yang Diharapkan:\n",
    "\n",
    "Daftar ID karyawan akan berupa sebuah List Python dan masukan akan selalu terurut dalam urutan meningkat.\n",
    "\n",
    "Keluaran yang Diharapkan:\n",
    "\n",
    "Kamu harus mengembalikan sebuah tuple dengan dua item: N (jumlah elemen unik) dan daftar yang diperbarui dengan elemen-elemen unik.\n",
    "\n",
    "Contoh Input dan output:\n",
    "\n",
    "```\n",
    "employee_ids = [1,1,1,2,2,2,3,3,3,4,4,5]\n",
    "output = (5, [1,2,3,4,5])\n",
    "```\n",
    "\n",
    "tip ! you can use ``set`` consep to solve this"
   ]
  },
  {
   "cell_type": "code",
   "execution_count": null,
   "metadata": {
    "colab": {
     "base_uri": "https://localhost:8080/"
    },
    "executionInfo": {
     "elapsed": 360,
     "status": "ok",
     "timestamp": 1704937313407,
     "user": {
      "displayName": "Novita Fitriani",
      "userId": "16738979947830196345"
     },
     "user_tz": -420
    },
    "id": "BZ1bLAOBOy7r",
    "outputId": "0cacce41-079d-49df-cbb5-527681eb633c"
   },
   "outputs": [
    {
     "name": "stdout",
     "output_type": "stream",
     "text": [
      "employee_ids = [1, 1, 1, 2, 2, 2, 3, 3, 3, 4, 4, 5]\n",
      "output = (5, [1, 2, 3, 4, 5])\n"
     ]
    }
   ],
   "source": [
    "#Program utama\n",
    "def remove_duplicate_ids(ids_list):\n",
    "    unique_ids = sorted(set(ids_list))\n",
    "    total_unique = len(unique_ids)\n",
    "    output = (total_unique, unique_ids)\n",
    "    return output\n",
    "\n",
    "#Input data\n",
    "ids_list = [1, 1, 1, 2, 2, 2, 3, 3, 3, 4, 4, 5]\n",
    "\n",
    "#Memanggil fungsi\n",
    "result = remove_duplicate_ids(ids_list)\n",
    "\n",
    "#Menampilkan hasil\n",
    "print(\"employee_ids =\", ids_list)\n",
    "print(\"output =\", result)"
   ]
  },
  {
   "cell_type": "markdown",
   "metadata": {
    "id": "hLQNLOE2Oy7r"
   },
   "source": [
    "4. Membuat program untuk mendeteksi anagram\n",
    "\n",
    "Anagram adalah istilah dalam linguistik yang mengacu pada sebuah kata atau frasa yang terbentuk dari pengubahan susunan huruf-huruf yang terdapat pada kata atau frasa lain. Dalam sebuah anagram, huruf-huruf yang ada dalam kata atau frasa asli diacak ulang tanpa menambah atau menghapus huruf-huruf tersebut. <br>\n",
    "Contohnya, anagram dari kata \"kucing\" dapat menjadi \"cinguk\" atau \"ucgink\". Begitu pula, anagram dari frasa \"aku suka makan\" dapat menjadi \"suka makan aku\" atau \"makan aku suka\".\n",
    "\n",
    "```\n",
    "test case 1 :\n",
    "word_one = \"angel\"\n",
    "word_two = 'glean'\n",
    "OUTPUT:\n",
    "True\n",
    "\n",
    "\n",
    "test case 2 :\n",
    "word_one='mike'\n",
    "word_two=\"like\"\n",
    "OUTPUT:\n",
    "False\n",
    "```\n",
    "\n"
   ]
  },
  {
   "cell_type": "code",
   "execution_count": null,
   "metadata": {
    "colab": {
     "base_uri": "https://localhost:8080/"
    },
    "executionInfo": {
     "elapsed": 23523,
     "status": "ok",
     "timestamp": 1704937412285,
     "user": {
      "displayName": "Novita Fitriani",
      "userId": "16738979947830196345"
     },
     "user_tz": -420
    },
    "id": "-KPBkGPLOy7r",
    "outputId": "ace74d13-2357-41be-ddf5-adf885f83417"
   },
   "outputs": [
    {
     "name": "stdout",
     "output_type": "stream",
     "text": [
      "ingin coba berapa kali? 2\n",
      "\n",
      "test case 1 :\n",
      "word_one : angel\n",
      "word_two : glean\n",
      "OUTPUT :\n",
      "True \n",
      "\n",
      "\n",
      "test case 2 :\n",
      "word_one : mike\n",
      "word_two : like\n",
      "OUTPUT :\n",
      "False \n",
      "\n"
     ]
    }
   ],
   "source": [
    "#Program utama\n",
    "def anagram_checker(string,string_2):\n",
    "    if(sorted(string)==sorted(string_2)):\n",
    "      return True\n",
    "    return False\n",
    "\n",
    "#Test cases\n",
    "pilihan=int(input('ingin coba berapa kali? '))\n",
    "i = 0\n",
    "\n",
    "while i < pilihan:\n",
    "  i+=1\n",
    "  print(f'\\ntest case {i} :')\n",
    "  a=input('word_one : ')\n",
    "  b=input('word_two : ')\n",
    "  print(f'OUTPUT :\\n{anagram_checker(a,b)} \\n')"
   ]
  }
 ],
 "metadata": {
  "colab": {
   "provenance": [
    {
     "file_id": "1Mh693iiEzjqeX0GhACY5W8ilk_Uv6QmZ",
     "timestamp": 1704866333358
    }
   ]
  },
  "kernelspec": {
   "display_name": "Python 3 (ipykernel)",
   "language": "python",
   "name": "python3"
  },
  "language_info": {
   "codemirror_mode": {
    "name": "ipython",
    "version": 3
   },
   "file_extension": ".py",
   "mimetype": "text/x-python",
   "name": "python",
   "nbconvert_exporter": "python",
   "pygments_lexer": "ipython3",
   "version": "3.11.5"
  }
 },
 "nbformat": 4,
 "nbformat_minor": 1
}
