{
 "cells": [
  {
   "cell_type": "markdown",
   "metadata": {
    "id": "cMrT-5F164qj"
   },
   "source": [
    "## Welcome to the Coding Challenge Part 2!"
   ]
  },
  {
   "cell_type": "markdown",
   "metadata": {
    "id": "79NwqjIq64qr"
   },
   "source": [
    "###**Problem 1: Who is in the third place?**"
   ]
  },
  {
   "cell_type": "markdown",
   "metadata": {
    "id": "9db_O8Co64qs"
   },
   "source": [
    "Buatlah fungsi dengan nama ```third_place``` yang dapat melakukan aktifitas berikut:\n",
    "\n",
    "Diberikan daftar nilai ujian dan daftar nama peserta. Output yang diinginkan adalah nama peserta yang mendapat nilai terbaik ke-3. Aturan penentuan urutan skor terbaik adalah sebagai berikut:\n",
    "- Skor yang lebih tinggi lebih baik\n",
    "- Apabila beberapa peserta memiliki skor tes yang sama, mereka dapat menempati nilai peringkat yang sama. Misalnya, jika 2 peserta mendapat nilai 100, maka keduanya menempati urutan pertama.\n",
    "\n",
    "Input pertama dari fungsi adalah daftar nama, dan input kedua pada fungsi adalah daftar skor.\n",
    "\n",
    "##### Example 1:\n",
    "\n",
    "Input:\n",
    "\n",
    "names = [Andi, Budi, Charlie, Dilan, Echa]\n",
    "\n",
    "score = [80, 90, 95, 100, 85]\n",
    "\n",
    "Artinya, Andi mendapat nilai 80, Budi mendapat nilai 90, Charlie mendapat nilai 95, Dilan mendapat nilai 100, dan Echa mendapat nilai 85. Nilai terbaik pertama adalah 100, dan Dilan mendapat nilai. Skor terbaik kedua adalah 95, dan Charlie mendapatkannya. Skor terbaik ketiga adalah 90, dan Budi mendapatkannya. Jadi output kita harus Budi.\n",
    "\n",
    "Output: 'The third winner: Budi'.\n",
    "\n",
    "Saat kita menjalankan ```third_place(names, score)```, outputnya akan 'The third winner: Budi'.\n",
    "\n",
    "##### Example 2:\n",
    "\n",
    "Input:\n",
    "\n",
    "names = [Andi, Budi, Charlie, Dilan, Echa]\n",
    "\n",
    "score = [80, 80, 80, 100, 90]\n",
    "\n",
    "Tartinya, Andi, Budi, dan Charlie mendapat nilai 80, Dilan mendapat nilai 100, dan Echa mendapat nilai 90. Nilai terbaik ketiga adalah 80, dan output kita harus mencantumkan SEMUA peserta yang mendapat nilai 80.\n",
    "\n",
    "Output: 'The third winner: Andi, Budi, Charlie'.\n",
    "\n",
    "Apabila kita menjalankan ```third_place(names, score)```, outputnya adalah 'The third winner: Andi, Budi, Charlie'.\n",
    "\n",
    "\n",
    "##### Example 3:\n",
    "\n",
    "Input:\n",
    "\n",
    "names = [Andi, Budi, Charlie, Dilan, Echa, Fanya]\n",
    "\n",
    "score = [80, 90, 90, 100, 100, 80]\n",
    "\n",
    "Skor terbaik pertama (juara pertama) adalah 100 - Dilan dan Echa berbagi posisi ini. Skor terbaik kedua (pemenang kedua) adalah 90 - Budi dan Charlie berbagi posisi ini. Skor terbaik ketiga (juara ketiga) adalah 80, dan itu dibagi oleh Andi dan Fanya. Jadi, output kita harusnya Andi dan Fanya.\n",
    "\n",
    "Output: 'The third winner: Andi, Fanya'."
   ]
  },
  {
   "cell_type": "code",
   "execution_count": 1,
   "metadata": {
    "colab": {
     "base_uri": "https://localhost:8080/"
    },
    "executionInfo": {
     "elapsed": 68543,
     "status": "ok",
     "timestamp": 1706288009187,
     "user": {
      "displayName": "Novita Fitriani",
      "userId": "16738979947830196345"
     },
     "user_tz": -420
    },
    "id": "A3K-vK6SEU8E",
    "outputId": "fcd8cf22-0e8f-4b70-f87f-9617e01f2c00"
   },
   "outputs": [
    {
     "name": "stdout",
     "output_type": "stream",
     "text": [
      "Masukan Nama : Novita Fitriani\n",
      "\n",
      "Welcome to program third place, Novita Fitriani !\n",
      "\n",
      "Masukkan nama peserta (pisahkan dengan koma): Andi, Badu, Caca, Dian, Eka\n",
      "Masukkan skor ujian (pisahkan dengan koma): 80, 90, 88, 95, 85\n",
      "The third winner: Caca\n",
      "\n",
      "ingin ulang (ya/tidak) ? tidak\n",
      "terimakasih\n"
     ]
    }
   ],
   "source": [
    "#Salam pembuka program\n",
    "def id () :\n",
    "  sapa_user=input(\"Masukan Nama : \")\n",
    "  return print (f\"\\nWelcome to program third place, {sapa_user} !\")\n",
    "id()\n",
    "\n",
    "#Program utama\n",
    "def third_place(names, scores):\n",
    "    participants = list(zip(names, scores))\n",
    "    participants.sort(key=lambda x: x[1], reverse=True)\n",
    "\n",
    "    unique_scores = list(set(scores))\n",
    "\n",
    "    if len(unique_scores) >= 3:\n",
    "        third_place_score = sorted(unique_scores, reverse=True)[2]\n",
    "        third_place_names = [participant[0] for participant in participants if participant[1] == third_place_score]\n",
    "\n",
    "        if len(third_place_names) == 1:\n",
    "            return f'The third winner: {third_place_names[0]}'\n",
    "        else:\n",
    "            return f'The third winner: {\", \".join(third_place_names)}'\n",
    "    else:\n",
    "        return 'Not enough participants to determine the third place winner'\n",
    "\n",
    "#Input dan menampilkan hasil\n",
    "pilihan=\"ya\"\n",
    "while pilihan==\"ya\" :\n",
    "  names = input(\"\\nMasukkan nama peserta (pisahkan dengan koma): \").split(', ')\n",
    "  scores = list(map(int, input(\"Masukkan skor ujian (pisahkan dengan koma): \").split(', ')))\n",
    "  print(third_place(names, scores))\n",
    "  pilihan=input(\"\\ningin ulang (ya/tidak) ? \")\n",
    "else:\n",
    "  print (\"terimakasih\")"
   ]
  },
  {
   "cell_type": "markdown",
   "metadata": {
    "id": "1ydxvEez64q3"
   },
   "source": [
    "###**Problem 2: Find the Square Root!**"
   ]
  },
  {
   "cell_type": "markdown",
   "metadata": {
    "id": "nvcBPlgV64q5"
   },
   "source": [
    "Buatlah fungsi dengan nama ```square_root``` yang dapat melakukan fungsi berikut:\n",
    "\n",
    "Diberikan polinomial orde kedua, temukan akarnya (akar harus dalam bilangan real). Inputnya adalah 3 angka, masing-masing mewakili 'a', 'b', dan 'c', dalam ax^2 + bx + c = 0.\n",
    "\n",
    "Tugas Anda adalah mencari akar dari ax^2 + bx + c = 0.\n",
    "\n",
    "Namun, perhatikan bahwa terkadang persamaan tidak dapat diselesaikan, atau hanya memiliki satu solusi, bukan dua. Fungsi Anda juga harus mempertimbangkan hal ini.\n",
    "\n",
    "Input fungsi Anda adalah 3 angka, angka pertama adalah konstanta 'a', angka kedua adalah konstanta 'b', dan angka ketiga adalah konstanta 'c'.\n",
    "\n",
    "##### Example 1:\n",
    "\n",
    "Input: a = 1, b = -5, c = 6.\n",
    "\n",
    "Artinya, persamaannya adalah 1x^2 - 5x + 6 = 0.\n",
    "Persamaan ini memiliki dua solusi, solusi pertama adalah x = 3, dan solusi kedua adalah x = 2. Jadi, keluaran Anda seharusnya adalah:\n",
    "\n",
    "Output: 'X1 = 3, X2 = 2'.\n",
    "\n",
    "Apabila kita menjalankan kode ```square_root(1, -5, 6)``` maka outputnya adalah: 'X1 = 3, X2 = 2'\n",
    "\n",
    "##### Example 2:\n",
    "\n",
    "Input: a = 2, b = 4, c = 2.\n",
    "\n",
    "Artinya, persamaannya adalah 2x^2 + 4x + 2 = 0.\n",
    "Persamaan ini hanya memiliki satu solusi, yaitu x = -1.\n",
    "\n",
    "Output; 'X = -1'.\n",
    "\n",
    "##### Example 3:\n",
    "\n",
    "Input: a = 1, b = 1, c = 9.\n",
    "\n",
    "Artinya, persamaannya adalah x^2 + x + 9 = 0.\n",
    "Persamaan ini tidak memiliki solusi nyata. (Jika Anda telah belajar tentang bilangan imajiner atau kompleks, solusi dari persamaan ini adalah bilangan-bilangan tersebut. Tapi di sini, kita hanya akan berurusan dengan bilangan real).\n",
    "\n",
    "Output: 'No solution'."
   ]
  },
  {
   "cell_type": "code",
   "execution_count": 5,
   "metadata": {
    "colab": {
     "base_uri": "https://localhost:8080/"
    },
    "executionInfo": {
     "elapsed": 6747,
     "status": "ok",
     "timestamp": 1706288096126,
     "user": {
      "displayName": "Novita Fitriani",
      "userId": "16738979947830196345"
     },
     "user_tz": -420
    },
    "id": "i3_ebfGq64q6",
    "outputId": "c3d4da89-c2ce-47fc-83fe-c529e84d33c8"
   },
   "outputs": [
    {
     "name": "stdout",
     "output_type": "stream",
     "text": [
      "ingin coba berapa kali? 1\n",
      "\n",
      "Masukkan nilai a = 1\n",
      "Masukkan nilai b = 9\n",
      "Masukkan nilai c = 20\n",
      "Output : X1 = -5, X2 = -4\n"
     ]
    }
   ],
   "source": [
    "import cmath\n",
    "\n",
    "def square_root(a, b, c):\n",
    "    # Menghitung diskriminan\n",
    "    discriminant = (b**2) - (4*a*c)\n",
    "\n",
    "    # Memeriksa apakah persamaan kuadrat memiliki solusi real atau kompleks\n",
    "    if discriminant > 0:\n",
    "        # Dua solusi real\n",
    "        x1 = (-b - cmath.sqrt(discriminant)) / (2*a)\n",
    "        x2 = (-b + cmath.sqrt(discriminant)) / (2*a)\n",
    "        result = f'X1 = {int(x1.real)}, X2 = {int(x2.real)}'\n",
    "    elif discriminant == 0:\n",
    "        # Satu solusi real\n",
    "        x = -b / (2*a)\n",
    "        result = f'X = {int(x)}'\n",
    "    else:\n",
    "        # Tidak ada solusi real (solusi kompleks)\n",
    "        result = 'No solution'\n",
    "\n",
    "    return result\n",
    "\n",
    "# Input dan menampilkan hasil\n",
    "pilihan=int(input('ingin coba berapa kali? '))\n",
    "i = 0\n",
    "\n",
    "while i < pilihan:\n",
    "  i+=1\n",
    "  input_a = float(input('\\nMasukkan nilai a = '))\n",
    "  input_b = float(input('Masukkan nilai b = '))\n",
    "  input_c = float(input('Masukkan nilai c = '))\n",
    "  print(f'Output : {square_root(input_a,input_b,input_c)}')"
   ]
  },
  {
   "cell_type": "markdown",
   "metadata": {
    "id": "NntHmMB164q-"
   },
   "source": [
    "###**Problem 3: Find Distance Between Two Coordinates - Easy**"
   ]
  },
  {
   "cell_type": "markdown",
   "metadata": {
    "id": "12EaDJlE64q_"
   },
   "source": [
    "Buatlah fungsi dengan namna ```distance``` yang dapat melakukan fungsi berikut:\n",
    "\n",
    "Diberikan dua koordinat dalam daftar. Tugas Anda adalah menghitung jarak antara kedua koordinat tersebut. Input dari fungsi Anda akan menjadi dua daftar. Setiap daftar berisi 2 anggota, mewakili posisi x dan y.\n",
    "\n",
    "##### Example 1:\n",
    "\n",
    "Input:\n",
    "\n",
    "point_1 = [5, 5]\n",
    "\n",
    "point_2 = [1, 2]\n",
    "\n",
    "Artinya, koordinat titik pertama adalah (5,5), koordinat titik kedua adalah (1,2). Untuk menghitung jarak antara dua titik ini, kami menggunakan rumus jarak euclidean biasa di sini: https://wikimedia.org/api/rest_v1/media/math/render/svg/2e0c9ce1b3455cb9e92c6bad6684dbda02f69c82.\n",
    "\n",
    "Jaraknya adalah:\n",
    "\n",
    "Akar kuadrat dari ((5-1)^2 + (5-2)^2) = Akar kuadrat dari (16 + 9) = Akar kuadrat dari (25) = 5.\n",
    "\n",
    "Output: 'The distance is 5.'\n",
    "\n",
    "Maka, ketika kita menjalankan kode ```distance(point_1, point_2)``` outputnya akan 'The distance is 5'.\n",
    "\n",
    "##### Example 2:\n",
    "\n",
    "Input:\n",
    "\n",
    "point_1 = [0,-1]\n",
    "\n",
    "point_2 = [-3, 2]\n",
    "\n",
    "Koordinat pertama adalah (0,-1), koordinat kedua adalah (-3,2). Jarak antara mereka adalah:\n",
    "\n",
    "Akar kuadrat dari ((0- -3)^2 + (-1-2)^2) = Akar kuadrat dari (9 + 9) = Akar kuadrat dari (18) = 4,242640687\n",
    "\n",
    "Output: 'The distance is 4.242640687'.\n",
    "\n",
    "Maka, apabila kita menjalankan kode ```distance(point_1, point_2)``` outputnya adalah 'The distance is 4.242640487'.\n",
    "\n",
    "##### FAQ:\n",
    "\n",
    "- Question: \"Desimalnya dibuletin ga?\"\n",
    "- Answer: \"Ga usah peduliin format output desimalnya. Mau keluar berapa angka di belakang koma gpp kok. Yang penting value nya bener.\""
   ]
  },
  {
   "cell_type": "code",
   "execution_count": 6,
   "metadata": {
    "colab": {
     "base_uri": "https://localhost:8080/"
    },
    "executionInfo": {
     "elapsed": 26652,
     "status": "ok",
     "timestamp": 1706288136505,
     "user": {
      "displayName": "Novita Fitriani",
      "userId": "16738979947830196345"
     },
     "user_tz": -420
    },
    "id": "4rmwX2y564rA",
    "outputId": "74914f08-dc00-4a33-8067-ff1213b13b95"
   },
   "outputs": [
    {
     "name": "stdout",
     "output_type": "stream",
     "text": [
      "\n",
      "Masukkan koordinat x dan y untuk titik 1 (pisahkan dengan koma): 4,5\n",
      "Masukkan koordinat x dan y untuk titik 2 (pisahkan dengan koma): -1,9\n",
      "Output : The distance is 6.4031242374328485.\n",
      "\n",
      "ingin ulang (ya/tidak) ? ya\n",
      "\n",
      "Masukkan koordinat x dan y untuk titik 1 (pisahkan dengan koma): 0,1\n",
      "Masukkan koordinat x dan y untuk titik 2 (pisahkan dengan koma): 2,4\n",
      "Output : The distance is 3.605551275463989.\n",
      "\n",
      "ingin ulang (ya/tidak) ? tidak\n",
      "terimakasih\n"
     ]
    }
   ],
   "source": [
    "#Program utama\n",
    "import math\n",
    "\n",
    "def distance(point_1, point_2):\n",
    "    # Mendapatkan koordinat x dan y dari masing-masing titik\n",
    "    x1, y1 = point_1\n",
    "    x2, y2 = point_2\n",
    "\n",
    "    # Menghitung jarak menggunakan rumus Pythagoras\n",
    "    distance = math.sqrt((x2 - x1)**2 + (y2 - y1)**2)\n",
    "\n",
    "    # Menampilkan hasil sebagai bilangan bulat jika jarak adalah bilangan bulat\n",
    "    if distance.is_integer():\n",
    "        result = f'The distance is {int(distance)}.'\n",
    "    else:\n",
    "        result = f'The distance is {distance}.'\n",
    "\n",
    "    return result\n",
    "\n",
    "#Input dan menampilkan hasil\n",
    "pilihan='ya'\n",
    "while pilihan=='ya' :\n",
    "  #input titik pertama\n",
    "  input_values_1 = input('\\nMasukkan koordinat x dan y untuk titik 1 (pisahkan dengan koma): ')\n",
    "  x1, y1 = map(float, input_values_1.split(','))\n",
    "  #input titik kedua\n",
    "  input_values_2 = input('Masukkan koordinat x dan y untuk titik 2 (pisahkan dengan koma): ')\n",
    "  x2, y2 = map(float, input_values_2.split(','))\n",
    "  # Membuat tuple untuk kedua titik\n",
    "  point1 = (x1, y1)\n",
    "  point2 = (x2, y2)\n",
    "  # Memanggil fungsi dan menampilkan output\n",
    "  print(f'Output : {distance(point1, point2)}')\n",
    "  pilihan=input('\\ningin ulang (ya/tidak) ? ')\n",
    "else:\n",
    "  print ('terimakasih')"
   ]
  }
 ],
 "metadata": {
  "colab": {
   "provenance": [
    {
     "file_id": "1H13li_yF_0uL9jJ30i6jBV8knZyX3Lwn",
     "timestamp": 1706076050137
    }
   ]
  },
  "kernelspec": {
   "display_name": "Python 3 (ipykernel)",
   "language": "python",
   "name": "python3"
  },
  "language_info": {
   "codemirror_mode": {
    "name": "ipython",
    "version": 3
   },
   "file_extension": ".py",
   "mimetype": "text/x-python",
   "name": "python",
   "nbconvert_exporter": "python",
   "pygments_lexer": "ipython3",
   "version": "3.11.5"
  }
 },
 "nbformat": 4,
 "nbformat_minor": 1
}
